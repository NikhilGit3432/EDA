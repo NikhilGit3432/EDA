{
 "cells": [
  {
   "cell_type": "code",
   "execution_count": 1,
   "id": "66625bd3-9bbf-4860-9897-7e0f1580dac4",
   "metadata": {},
   "outputs": [],
   "source": [
    "import pandas as pd\n",
    "import numpy as np\n",
    "import seaborn as sns \n",
    "import matplotlib.pyplot as plt"
   ]
  },
  {
   "cell_type": "code",
   "execution_count": 2,
   "id": "9c4980f2-28e4-4a1d-b570-286c9e6a94e6",
   "metadata": {},
   "outputs": [],
   "source": [
    "# Load the dataset into a pandas DataFrame\n",
    "file_path = \"HRDataset_v14.csv\"  # Ensure this file is in the same directory as your notebook\n",
    "df = pd.read_csv(file_path)"
   ]
  },
  {
   "cell_type": "code",
   "execution_count": 487,
   "id": "f30ee0f8-dd02-4b3d-8567-2e7992c1e192",
   "metadata": {},
   "outputs": [
    {
     "data": {
      "text/html": [
       "<div>\n",
       "<style scoped>\n",
       "    .dataframe tbody tr th:only-of-type {\n",
       "        vertical-align: middle;\n",
       "    }\n",
       "\n",
       "    .dataframe tbody tr th {\n",
       "        vertical-align: top;\n",
       "    }\n",
       "\n",
       "    .dataframe thead th {\n",
       "        text-align: right;\n",
       "    }\n",
       "</style>\n",
       "<table border=\"1\" class=\"dataframe\">\n",
       "  <thead>\n",
       "    <tr style=\"text-align: right;\">\n",
       "      <th></th>\n",
       "      <th>Employee_Name</th>\n",
       "      <th>EmpID</th>\n",
       "      <th>MarriedID</th>\n",
       "      <th>MaritalStatusID</th>\n",
       "      <th>GenderID</th>\n",
       "      <th>EmpStatusID</th>\n",
       "      <th>DeptID</th>\n",
       "      <th>PerfScoreID</th>\n",
       "      <th>FromDiversityJobFairID</th>\n",
       "      <th>Salary</th>\n",
       "      <th>...</th>\n",
       "      <th>ManagerName</th>\n",
       "      <th>ManagerID</th>\n",
       "      <th>RecruitmentSource</th>\n",
       "      <th>PerformanceScore</th>\n",
       "      <th>EngagementSurvey</th>\n",
       "      <th>EmpSatisfaction</th>\n",
       "      <th>SpecialProjectsCount</th>\n",
       "      <th>LastPerformanceReview_Date</th>\n",
       "      <th>DaysLateLast30</th>\n",
       "      <th>Absences</th>\n",
       "    </tr>\n",
       "  </thead>\n",
       "  <tbody>\n",
       "    <tr>\n",
       "      <th>0</th>\n",
       "      <td>Adinolfi, Wilson  K</td>\n",
       "      <td>10026</td>\n",
       "      <td>0</td>\n",
       "      <td>0</td>\n",
       "      <td>1</td>\n",
       "      <td>1</td>\n",
       "      <td>5</td>\n",
       "      <td>4</td>\n",
       "      <td>0</td>\n",
       "      <td>62506</td>\n",
       "      <td>...</td>\n",
       "      <td>Michael Albert</td>\n",
       "      <td>22.0</td>\n",
       "      <td>LinkedIn</td>\n",
       "      <td>Exceeds</td>\n",
       "      <td>4.60</td>\n",
       "      <td>5</td>\n",
       "      <td>0</td>\n",
       "      <td>1/17/2019</td>\n",
       "      <td>0</td>\n",
       "      <td>1</td>\n",
       "    </tr>\n",
       "    <tr>\n",
       "      <th>1</th>\n",
       "      <td>Ait Sidi, Karthikeyan</td>\n",
       "      <td>10084</td>\n",
       "      <td>1</td>\n",
       "      <td>1</td>\n",
       "      <td>1</td>\n",
       "      <td>5</td>\n",
       "      <td>3</td>\n",
       "      <td>3</td>\n",
       "      <td>0</td>\n",
       "      <td>104437</td>\n",
       "      <td>...</td>\n",
       "      <td>Simon Roup</td>\n",
       "      <td>4.0</td>\n",
       "      <td>Indeed</td>\n",
       "      <td>Fully Meets</td>\n",
       "      <td>4.96</td>\n",
       "      <td>3</td>\n",
       "      <td>6</td>\n",
       "      <td>2/24/2016</td>\n",
       "      <td>0</td>\n",
       "      <td>17</td>\n",
       "    </tr>\n",
       "    <tr>\n",
       "      <th>2</th>\n",
       "      <td>Akinkuolie, Sarah</td>\n",
       "      <td>10196</td>\n",
       "      <td>1</td>\n",
       "      <td>1</td>\n",
       "      <td>0</td>\n",
       "      <td>5</td>\n",
       "      <td>5</td>\n",
       "      <td>3</td>\n",
       "      <td>0</td>\n",
       "      <td>64955</td>\n",
       "      <td>...</td>\n",
       "      <td>Kissy Sullivan</td>\n",
       "      <td>20.0</td>\n",
       "      <td>LinkedIn</td>\n",
       "      <td>Fully Meets</td>\n",
       "      <td>3.02</td>\n",
       "      <td>3</td>\n",
       "      <td>0</td>\n",
       "      <td>5/15/2012</td>\n",
       "      <td>0</td>\n",
       "      <td>3</td>\n",
       "    </tr>\n",
       "    <tr>\n",
       "      <th>3</th>\n",
       "      <td>Alagbe,Trina</td>\n",
       "      <td>10088</td>\n",
       "      <td>1</td>\n",
       "      <td>1</td>\n",
       "      <td>0</td>\n",
       "      <td>1</td>\n",
       "      <td>5</td>\n",
       "      <td>3</td>\n",
       "      <td>0</td>\n",
       "      <td>64991</td>\n",
       "      <td>...</td>\n",
       "      <td>Elijiah Gray</td>\n",
       "      <td>16.0</td>\n",
       "      <td>Indeed</td>\n",
       "      <td>Fully Meets</td>\n",
       "      <td>4.84</td>\n",
       "      <td>5</td>\n",
       "      <td>0</td>\n",
       "      <td>1/3/2019</td>\n",
       "      <td>0</td>\n",
       "      <td>15</td>\n",
       "    </tr>\n",
       "    <tr>\n",
       "      <th>4</th>\n",
       "      <td>Anderson, Carol</td>\n",
       "      <td>10069</td>\n",
       "      <td>0</td>\n",
       "      <td>2</td>\n",
       "      <td>0</td>\n",
       "      <td>5</td>\n",
       "      <td>5</td>\n",
       "      <td>3</td>\n",
       "      <td>0</td>\n",
       "      <td>50825</td>\n",
       "      <td>...</td>\n",
       "      <td>Webster Butler</td>\n",
       "      <td>39.0</td>\n",
       "      <td>Google Search</td>\n",
       "      <td>Fully Meets</td>\n",
       "      <td>5.00</td>\n",
       "      <td>4</td>\n",
       "      <td>0</td>\n",
       "      <td>2/1/2016</td>\n",
       "      <td>0</td>\n",
       "      <td>2</td>\n",
       "    </tr>\n",
       "    <tr>\n",
       "      <th>5</th>\n",
       "      <td>Anderson, Linda</td>\n",
       "      <td>10002</td>\n",
       "      <td>0</td>\n",
       "      <td>0</td>\n",
       "      <td>0</td>\n",
       "      <td>1</td>\n",
       "      <td>5</td>\n",
       "      <td>4</td>\n",
       "      <td>0</td>\n",
       "      <td>57568</td>\n",
       "      <td>...</td>\n",
       "      <td>Amy Dunn</td>\n",
       "      <td>11.0</td>\n",
       "      <td>LinkedIn</td>\n",
       "      <td>Exceeds</td>\n",
       "      <td>5.00</td>\n",
       "      <td>5</td>\n",
       "      <td>0</td>\n",
       "      <td>1/7/2019</td>\n",
       "      <td>0</td>\n",
       "      <td>15</td>\n",
       "    </tr>\n",
       "    <tr>\n",
       "      <th>6</th>\n",
       "      <td>Andreola, Colby</td>\n",
       "      <td>10194</td>\n",
       "      <td>0</td>\n",
       "      <td>0</td>\n",
       "      <td>0</td>\n",
       "      <td>1</td>\n",
       "      <td>4</td>\n",
       "      <td>3</td>\n",
       "      <td>0</td>\n",
       "      <td>95660</td>\n",
       "      <td>...</td>\n",
       "      <td>Alex Sweetwater</td>\n",
       "      <td>10.0</td>\n",
       "      <td>LinkedIn</td>\n",
       "      <td>Fully Meets</td>\n",
       "      <td>3.04</td>\n",
       "      <td>3</td>\n",
       "      <td>4</td>\n",
       "      <td>1/2/2019</td>\n",
       "      <td>0</td>\n",
       "      <td>19</td>\n",
       "    </tr>\n",
       "    <tr>\n",
       "      <th>7</th>\n",
       "      <td>Athwal, Sam</td>\n",
       "      <td>10062</td>\n",
       "      <td>0</td>\n",
       "      <td>4</td>\n",
       "      <td>1</td>\n",
       "      <td>1</td>\n",
       "      <td>5</td>\n",
       "      <td>3</td>\n",
       "      <td>0</td>\n",
       "      <td>59365</td>\n",
       "      <td>...</td>\n",
       "      <td>Ketsia Liebig</td>\n",
       "      <td>19.0</td>\n",
       "      <td>Employee Referral</td>\n",
       "      <td>Fully Meets</td>\n",
       "      <td>5.00</td>\n",
       "      <td>4</td>\n",
       "      <td>0</td>\n",
       "      <td>2/25/2019</td>\n",
       "      <td>0</td>\n",
       "      <td>19</td>\n",
       "    </tr>\n",
       "    <tr>\n",
       "      <th>8</th>\n",
       "      <td>Bachiochi, Linda</td>\n",
       "      <td>10114</td>\n",
       "      <td>0</td>\n",
       "      <td>0</td>\n",
       "      <td>0</td>\n",
       "      <td>3</td>\n",
       "      <td>5</td>\n",
       "      <td>3</td>\n",
       "      <td>1</td>\n",
       "      <td>47837</td>\n",
       "      <td>...</td>\n",
       "      <td>Brannon Miller</td>\n",
       "      <td>12.0</td>\n",
       "      <td>Diversity Job Fair</td>\n",
       "      <td>Fully Meets</td>\n",
       "      <td>4.46</td>\n",
       "      <td>3</td>\n",
       "      <td>0</td>\n",
       "      <td>1/25/2019</td>\n",
       "      <td>0</td>\n",
       "      <td>4</td>\n",
       "    </tr>\n",
       "    <tr>\n",
       "      <th>9</th>\n",
       "      <td>Bacong, Alejandro</td>\n",
       "      <td>10250</td>\n",
       "      <td>0</td>\n",
       "      <td>2</td>\n",
       "      <td>1</td>\n",
       "      <td>1</td>\n",
       "      <td>3</td>\n",
       "      <td>3</td>\n",
       "      <td>0</td>\n",
       "      <td>50178</td>\n",
       "      <td>...</td>\n",
       "      <td>Peter Monroe</td>\n",
       "      <td>7.0</td>\n",
       "      <td>Indeed</td>\n",
       "      <td>Fully Meets</td>\n",
       "      <td>5.00</td>\n",
       "      <td>5</td>\n",
       "      <td>6</td>\n",
       "      <td>2/18/2019</td>\n",
       "      <td>0</td>\n",
       "      <td>16</td>\n",
       "    </tr>\n",
       "  </tbody>\n",
       "</table>\n",
       "<p>10 rows × 36 columns</p>\n",
       "</div>"
      ],
      "text/plain": [
       "              Employee_Name  EmpID  MarriedID  MaritalStatusID  GenderID  \\\n",
       "0       Adinolfi, Wilson  K  10026          0                0         1   \n",
       "1  Ait Sidi, Karthikeyan     10084          1                1         1   \n",
       "2         Akinkuolie, Sarah  10196          1                1         0   \n",
       "3              Alagbe,Trina  10088          1                1         0   \n",
       "4          Anderson, Carol   10069          0                2         0   \n",
       "5         Anderson, Linda    10002          0                0         0   \n",
       "6           Andreola, Colby  10194          0                0         0   \n",
       "7               Athwal, Sam  10062          0                4         1   \n",
       "8          Bachiochi, Linda  10114          0                0         0   \n",
       "9        Bacong, Alejandro   10250          0                2         1   \n",
       "\n",
       "   EmpStatusID  DeptID  PerfScoreID  FromDiversityJobFairID  Salary  ...  \\\n",
       "0            1       5            4                       0   62506  ...   \n",
       "1            5       3            3                       0  104437  ...   \n",
       "2            5       5            3                       0   64955  ...   \n",
       "3            1       5            3                       0   64991  ...   \n",
       "4            5       5            3                       0   50825  ...   \n",
       "5            1       5            4                       0   57568  ...   \n",
       "6            1       4            3                       0   95660  ...   \n",
       "7            1       5            3                       0   59365  ...   \n",
       "8            3       5            3                       1   47837  ...   \n",
       "9            1       3            3                       0   50178  ...   \n",
       "\n",
       "       ManagerName  ManagerID   RecruitmentSource PerformanceScore  \\\n",
       "0   Michael Albert       22.0            LinkedIn          Exceeds   \n",
       "1       Simon Roup        4.0              Indeed      Fully Meets   \n",
       "2   Kissy Sullivan       20.0            LinkedIn      Fully Meets   \n",
       "3     Elijiah Gray       16.0              Indeed      Fully Meets   \n",
       "4   Webster Butler       39.0       Google Search      Fully Meets   \n",
       "5         Amy Dunn       11.0            LinkedIn          Exceeds   \n",
       "6  Alex Sweetwater       10.0            LinkedIn      Fully Meets   \n",
       "7    Ketsia Liebig       19.0   Employee Referral      Fully Meets   \n",
       "8   Brannon Miller       12.0  Diversity Job Fair      Fully Meets   \n",
       "9     Peter Monroe        7.0              Indeed      Fully Meets   \n",
       "\n",
       "   EngagementSurvey EmpSatisfaction SpecialProjectsCount  \\\n",
       "0              4.60               5                    0   \n",
       "1              4.96               3                    6   \n",
       "2              3.02               3                    0   \n",
       "3              4.84               5                    0   \n",
       "4              5.00               4                    0   \n",
       "5              5.00               5                    0   \n",
       "6              3.04               3                    4   \n",
       "7              5.00               4                    0   \n",
       "8              4.46               3                    0   \n",
       "9              5.00               5                    6   \n",
       "\n",
       "  LastPerformanceReview_Date DaysLateLast30 Absences  \n",
       "0                  1/17/2019              0        1  \n",
       "1                  2/24/2016              0       17  \n",
       "2                  5/15/2012              0        3  \n",
       "3                   1/3/2019              0       15  \n",
       "4                   2/1/2016              0        2  \n",
       "5                   1/7/2019              0       15  \n",
       "6                   1/2/2019              0       19  \n",
       "7                  2/25/2019              0       19  \n",
       "8                  1/25/2019              0        4  \n",
       "9                  2/18/2019              0       16  \n",
       "\n",
       "[10 rows x 36 columns]"
      ]
     },
     "execution_count": 487,
     "metadata": {},
     "output_type": "execute_result"
    }
   ],
   "source": [
    "df.head(10)"
   ]
  },
  {
   "cell_type": "code",
   "execution_count": 4,
   "id": "6a63ee0d-115f-436b-bda0-8f0133ed9921",
   "metadata": {},
   "outputs": [
    {
     "name": "stdout",
     "output_type": "stream",
     "text": [
      "<class 'pandas.core.frame.DataFrame'>\n",
      "RangeIndex: 311 entries, 0 to 310\n",
      "Data columns (total 36 columns):\n",
      " #   Column                      Non-Null Count  Dtype  \n",
      "---  ------                      --------------  -----  \n",
      " 0   Employee_Name               311 non-null    object \n",
      " 1   EmpID                       311 non-null    int64  \n",
      " 2   MarriedID                   311 non-null    int64  \n",
      " 3   MaritalStatusID             311 non-null    int64  \n",
      " 4   GenderID                    311 non-null    int64  \n",
      " 5   EmpStatusID                 311 non-null    int64  \n",
      " 6   DeptID                      311 non-null    int64  \n",
      " 7   PerfScoreID                 311 non-null    int64  \n",
      " 8   FromDiversityJobFairID      311 non-null    int64  \n",
      " 9   Salary                      311 non-null    int64  \n",
      " 10  Termd                       311 non-null    int64  \n",
      " 11  PositionID                  311 non-null    int64  \n",
      " 12  Position                    311 non-null    object \n",
      " 13  State                       311 non-null    object \n",
      " 14  Zip                         311 non-null    int64  \n",
      " 15  DOB                         311 non-null    object \n",
      " 16  Sex                         311 non-null    object \n",
      " 17  MaritalDesc                 311 non-null    object \n",
      " 18  CitizenDesc                 311 non-null    object \n",
      " 19  HispanicLatino              311 non-null    object \n",
      " 20  RaceDesc                    311 non-null    object \n",
      " 21  DateofHire                  311 non-null    object \n",
      " 22  DateofTermination           104 non-null    object \n",
      " 23  TermReason                  311 non-null    object \n",
      " 24  EmploymentStatus            311 non-null    object \n",
      " 25  Department                  311 non-null    object \n",
      " 26  ManagerName                 311 non-null    object \n",
      " 27  ManagerID                   303 non-null    float64\n",
      " 28  RecruitmentSource           311 non-null    object \n",
      " 29  PerformanceScore            311 non-null    object \n",
      " 30  EngagementSurvey            311 non-null    float64\n",
      " 31  EmpSatisfaction             311 non-null    int64  \n",
      " 32  SpecialProjectsCount        311 non-null    int64  \n",
      " 33  LastPerformanceReview_Date  311 non-null    object \n",
      " 34  DaysLateLast30              311 non-null    int64  \n",
      " 35  Absences                    311 non-null    int64  \n",
      "dtypes: float64(2), int64(16), object(18)\n",
      "memory usage: 87.6+ KB\n"
     ]
    }
   ],
   "source": [
    "df.info()"
   ]
  },
  {
   "cell_type": "markdown",
   "id": "8922a931-2620-49cc-9065-df6c3ca11801",
   "metadata": {},
   "source": [
    "# 5:23"
   ]
  },
  {
   "cell_type": "code",
   "execution_count": 491,
   "id": "8912d498-3ef3-4e4f-a033-3467075817da",
   "metadata": {},
   "outputs": [
    {
     "data": {
      "text/plain": [
       "(311, 36)"
      ]
     },
     "execution_count": 491,
     "metadata": {},
     "output_type": "execute_result"
    }
   ],
   "source": [
    "df.shape"
   ]
  },
  {
   "cell_type": "code",
   "execution_count": 7,
   "id": "407ee13a-39d3-4b94-9a3a-912dca873f2e",
   "metadata": {},
   "outputs": [
    {
     "data": {
      "text/plain": [
       "Index(['Employee_Name', 'EmpID', 'MarriedID', 'MaritalStatusID', 'GenderID',\n",
       "       'EmpStatusID', 'DeptID', 'PerfScoreID', 'FromDiversityJobFairID',\n",
       "       'Salary', 'Termd', 'PositionID', 'Position', 'State', 'Zip', 'DOB',\n",
       "       'Sex', 'MaritalDesc', 'CitizenDesc', 'HispanicLatino', 'RaceDesc',\n",
       "       'DateofHire', 'DateofTermination', 'TermReason', 'EmploymentStatus',\n",
       "       'Department', 'ManagerName', 'ManagerID', 'RecruitmentSource',\n",
       "       'PerformanceScore', 'EngagementSurvey', 'EmpSatisfaction',\n",
       "       'SpecialProjectsCount', 'LastPerformanceReview_Date', 'DaysLateLast30',\n",
       "       'Absences'],\n",
       "      dtype='object')"
      ]
     },
     "execution_count": 7,
     "metadata": {},
     "output_type": "execute_result"
    }
   ],
   "source": [
    "df.columns"
   ]
  },
  {
   "cell_type": "code",
   "execution_count": 8,
   "id": "1df1c94e-c6c8-4aaa-9a35-f2f89cbd3035",
   "metadata": {},
   "outputs": [
    {
     "data": {
      "text/plain": [
       "Employee_Name                   0\n",
       "EmpID                           0\n",
       "MarriedID                       0\n",
       "MaritalStatusID                 0\n",
       "GenderID                        0\n",
       "EmpStatusID                     0\n",
       "DeptID                          0\n",
       "PerfScoreID                     0\n",
       "FromDiversityJobFairID          0\n",
       "Salary                          0\n",
       "Termd                           0\n",
       "PositionID                      0\n",
       "Position                        0\n",
       "State                           0\n",
       "Zip                             0\n",
       "DOB                             0\n",
       "Sex                             0\n",
       "MaritalDesc                     0\n",
       "CitizenDesc                     0\n",
       "HispanicLatino                  0\n",
       "RaceDesc                        0\n",
       "DateofHire                      0\n",
       "DateofTermination             207\n",
       "TermReason                      0\n",
       "EmploymentStatus                0\n",
       "Department                      0\n",
       "ManagerName                     0\n",
       "ManagerID                       8\n",
       "RecruitmentSource               0\n",
       "PerformanceScore                0\n",
       "EngagementSurvey                0\n",
       "EmpSatisfaction                 0\n",
       "SpecialProjectsCount            0\n",
       "LastPerformanceReview_Date      0\n",
       "DaysLateLast30                  0\n",
       "Absences                        0\n",
       "dtype: int64"
      ]
     },
     "execution_count": 8,
     "metadata": {},
     "output_type": "execute_result"
    }
   ],
   "source": [
    "# detrmining the Null Values\n",
    "df.isnull().sum()"
   ]
  },
  {
   "cell_type": "markdown",
   "id": "83a9bf66-1c4c-4b75-b747-f4785ccc6ff1",
   "metadata": {},
   "source": [
    "So we see there are 207 null values only in DateofTermination Column"
   ]
  },
  {
   "cell_type": "code",
   "execution_count": 10,
   "id": "b521661d-2af1-42d5-bb58-07abc9de5b2d",
   "metadata": {},
   "outputs": [
    {
     "name": "stderr",
     "output_type": "stream",
     "text": [
      "C:\\Users\\bhosa\\AppData\\Local\\Temp\\ipykernel_12032\\344905568.py:2: FutureWarning: Setting an item of incompatible dtype is deprecated and will raise an error in a future version of pandas. Value '0' has dtype incompatible with float64, please explicitly cast to a compatible dtype first.\n",
      "  df.fillna(\"0\",inplace=True)\n"
     ]
    }
   ],
   "source": [
    "# Filling the null values instead of dropping them\n",
    "df.fillna(\"0\",inplace=True)"
   ]
  },
  {
   "cell_type": "markdown",
   "id": "55d0d1e1-4122-4ced-bd1d-2f1f75e7c314",
   "metadata": {},
   "source": [
    "# 7:08"
   ]
  },
  {
   "cell_type": "code",
   "execution_count": 12,
   "id": "c168de91-8021-4672-b7e4-8c5c3a772f60",
   "metadata": {},
   "outputs": [
    {
     "data": {
      "text/plain": [
       "0"
      ]
     },
     "execution_count": 12,
     "metadata": {},
     "output_type": "execute_result"
    }
   ],
   "source": [
    "# Checking for Dulicated values \n",
    "df.duplicated().sum()"
   ]
  },
  {
   "cell_type": "markdown",
   "id": "b1495f08-eafe-4d92-92d6-188dd8cf9c98",
   "metadata": {},
   "source": [
    "# 8:00 EDA"
   ]
  },
  {
   "cell_type": "markdown",
   "id": "aa2c46d8-cd9a-4773-a6de-cb657952beb9",
   "metadata": {},
   "source": [
    "### Detrmine the Employees with highest Salaries"
   ]
  },
  {
   "cell_type": "code",
   "execution_count": 15,
   "id": "62253099-4d3c-4592-868f-9bf8e7e52c08",
   "metadata": {},
   "outputs": [
    {
     "data": {
      "text/html": [
       "<div>\n",
       "<style scoped>\n",
       "    .dataframe tbody tr th:only-of-type {\n",
       "        vertical-align: middle;\n",
       "    }\n",
       "\n",
       "    .dataframe tbody tr th {\n",
       "        vertical-align: top;\n",
       "    }\n",
       "\n",
       "    .dataframe thead th {\n",
       "        text-align: right;\n",
       "    }\n",
       "</style>\n",
       "<table border=\"1\" class=\"dataframe\">\n",
       "  <thead>\n",
       "    <tr style=\"text-align: right;\">\n",
       "      <th></th>\n",
       "      <th>Employee_Name</th>\n",
       "      <th>Salary</th>\n",
       "    </tr>\n",
       "  </thead>\n",
       "  <tbody>\n",
       "    <tr>\n",
       "      <th>151</th>\n",
       "      <td>King, Janet</td>\n",
       "      <td>250000</td>\n",
       "    </tr>\n",
       "    <tr>\n",
       "      <th>308</th>\n",
       "      <td>Zamora, Jennifer</td>\n",
       "      <td>220450</td>\n",
       "    </tr>\n",
       "    <tr>\n",
       "      <th>132</th>\n",
       "      <td>Houlihan, Debra</td>\n",
       "      <td>180000</td>\n",
       "    </tr>\n",
       "    <tr>\n",
       "      <th>97</th>\n",
       "      <td>Foss, Jason</td>\n",
       "      <td>178000</td>\n",
       "    </tr>\n",
       "    <tr>\n",
       "      <th>56</th>\n",
       "      <td>Corleone, Vito</td>\n",
       "      <td>170500</td>\n",
       "    </tr>\n",
       "    <tr>\n",
       "      <th>190</th>\n",
       "      <td>Monroe, Peter</td>\n",
       "      <td>157000</td>\n",
       "    </tr>\n",
       "    <tr>\n",
       "      <th>239</th>\n",
       "      <td>Roper, Katie</td>\n",
       "      <td>150290</td>\n",
       "    </tr>\n",
       "    <tr>\n",
       "      <th>243</th>\n",
       "      <td>Ruiz, Ricardo</td>\n",
       "      <td>148999</td>\n",
       "    </tr>\n",
       "    <tr>\n",
       "      <th>242</th>\n",
       "      <td>Roup,Simon</td>\n",
       "      <td>140920</td>\n",
       "    </tr>\n",
       "    <tr>\n",
       "      <th>77</th>\n",
       "      <td>Dougall, Eric</td>\n",
       "      <td>138888</td>\n",
       "    </tr>\n",
       "  </tbody>\n",
       "</table>\n",
       "</div>"
      ],
      "text/plain": [
       "        Employee_Name  Salary\n",
       "151       King, Janet  250000\n",
       "308  Zamora, Jennifer  220450\n",
       "132   Houlihan, Debra  180000\n",
       "97        Foss, Jason  178000\n",
       "56     Corleone, Vito  170500\n",
       "190     Monroe, Peter  157000\n",
       "239      Roper, Katie  150290\n",
       "243     Ruiz, Ricardo  148999\n",
       "242        Roup,Simon  140920\n",
       "77      Dougall, Eric  138888"
      ]
     },
     "execution_count": 15,
     "metadata": {},
     "output_type": "execute_result"
    }
   ],
   "source": [
    "salary_emp = df.groupby(\"Employee_Name\")[\"Salary\"].sum()\n",
    "salary_emp.reset_index().sort_values(\"Salary\",ascending=False).head(10)"
   ]
  },
  {
   "cell_type": "markdown",
   "id": "7db4efdc-187c-4ae3-94c4-165798830a79",
   "metadata": {},
   "source": [
    "### 10.26 Determine the employees who need special attention \n"
   ]
  },
  {
   "cell_type": "markdown",
   "id": "accb7c68-02ad-418e-801d-3e471110aef1",
   "metadata": {},
   "source": [
    "### or determine the under prforming employees for Performance improvement plan "
   ]
  },
  {
   "cell_type": "code",
   "execution_count": 18,
   "id": "86b49e38-634d-4c2d-9ae5-5b8d755d763b",
   "metadata": {},
   "outputs": [
    {
     "data": {
      "text/plain": [
       "PerformanceScore\n",
       "Fully Meets          243\n",
       "Exceeds               37\n",
       "Needs Improvement     18\n",
       "PIP                   13\n",
       "Name: count, dtype: int64"
      ]
     },
     "execution_count": 18,
     "metadata": {},
     "output_type": "execute_result"
    }
   ],
   "source": [
    "df[\"PerformanceScore\"].value_counts()"
   ]
  },
  {
   "cell_type": "markdown",
   "id": "482de341-e151-491f-8bcf-06094336b739",
   "metadata": {},
   "source": [
    "#### So there are 18 ynder performing employees\n",
    "#### there are already 13 employees enrolled for PIP"
   ]
  },
  {
   "cell_type": "markdown",
   "id": "8d73933d-9447-4040-a70e-90c02246f116",
   "metadata": {},
   "source": [
    "### Detrmining the names of the employees who are underperforming\n"
   ]
  },
  {
   "cell_type": "code",
   "execution_count": 20,
   "id": "36334b59-1323-49c7-a008-0d3f25272061",
   "metadata": {},
   "outputs": [],
   "source": [
    "# Detrmining the names of the employees who are underperforming\n",
    "underperforming_employees = df[df[\"PerformanceScore\"] == \"Needs Improvement\"]\n"
   ]
  },
  {
   "cell_type": "code",
   "execution_count": 21,
   "id": "1404c541-ee66-44ae-9c5d-ae3219f57e08",
   "metadata": {},
   "outputs": [
    {
     "data": {
      "text/html": [
       "<div>\n",
       "<style scoped>\n",
       "    .dataframe tbody tr th:only-of-type {\n",
       "        vertical-align: middle;\n",
       "    }\n",
       "\n",
       "    .dataframe tbody tr th {\n",
       "        vertical-align: top;\n",
       "    }\n",
       "\n",
       "    .dataframe thead th {\n",
       "        text-align: right;\n",
       "    }\n",
       "</style>\n",
       "<table border=\"1\" class=\"dataframe\">\n",
       "  <thead>\n",
       "    <tr style=\"text-align: right;\">\n",
       "      <th></th>\n",
       "      <th>Employee_Name</th>\n",
       "      <th>EmpID</th>\n",
       "    </tr>\n",
       "  </thead>\n",
       "  <tbody>\n",
       "    <tr>\n",
       "      <th>23</th>\n",
       "      <td>Blount, Dianna</td>\n",
       "      <td>10294</td>\n",
       "    </tr>\n",
       "    <tr>\n",
       "      <th>53</th>\n",
       "      <td>Cole, Spencer</td>\n",
       "      <td>10292</td>\n",
       "    </tr>\n",
       "    <tr>\n",
       "      <th>54</th>\n",
       "      <td>Corleone, Michael</td>\n",
       "      <td>10282</td>\n",
       "    </tr>\n",
       "    <tr>\n",
       "      <th>73</th>\n",
       "      <td>DiNocco, Lily</td>\n",
       "      <td>10284</td>\n",
       "    </tr>\n",
       "    <tr>\n",
       "      <th>84</th>\n",
       "      <td>Estremera, Miguel</td>\n",
       "      <td>10280</td>\n",
       "    </tr>\n",
       "    <tr>\n",
       "      <th>85</th>\n",
       "      <td>Evensen, April</td>\n",
       "      <td>10296</td>\n",
       "    </tr>\n",
       "    <tr>\n",
       "      <th>86</th>\n",
       "      <td>Exantus, Susan</td>\n",
       "      <td>10290</td>\n",
       "    </tr>\n",
       "    <tr>\n",
       "      <th>105</th>\n",
       "      <td>Gilles, Alex</td>\n",
       "      <td>10283</td>\n",
       "    </tr>\n",
       "    <tr>\n",
       "      <th>137</th>\n",
       "      <td>Immediato, Walter</td>\n",
       "      <td>10289</td>\n",
       "    </tr>\n",
       "    <tr>\n",
       "      <th>190</th>\n",
       "      <td>Monroe, Peter</td>\n",
       "      <td>10288</td>\n",
       "    </tr>\n",
       "    <tr>\n",
       "      <th>209</th>\n",
       "      <td>Owad, Clinton</td>\n",
       "      <td>10281</td>\n",
       "    </tr>\n",
       "    <tr>\n",
       "      <th>214</th>\n",
       "      <td>Smith, Martin</td>\n",
       "      <td>10286</td>\n",
       "    </tr>\n",
       "    <tr>\n",
       "      <th>215</th>\n",
       "      <td>Pelletier, Ermine</td>\n",
       "      <td>10297</td>\n",
       "    </tr>\n",
       "    <tr>\n",
       "      <th>236</th>\n",
       "      <td>Robinson, Cherly</td>\n",
       "      <td>10285</td>\n",
       "    </tr>\n",
       "    <tr>\n",
       "      <th>246</th>\n",
       "      <td>Saar-Beckles, Melinda</td>\n",
       "      <td>10295</td>\n",
       "    </tr>\n",
       "    <tr>\n",
       "      <th>258</th>\n",
       "      <td>Smith, John</td>\n",
       "      <td>10291</td>\n",
       "    </tr>\n",
       "    <tr>\n",
       "      <th>283</th>\n",
       "      <td>Trang, Mei</td>\n",
       "      <td>10287</td>\n",
       "    </tr>\n",
       "    <tr>\n",
       "      <th>297</th>\n",
       "      <td>Wallace, Theresa</td>\n",
       "      <td>10293</td>\n",
       "    </tr>\n",
       "  </tbody>\n",
       "</table>\n",
       "</div>"
      ],
      "text/plain": [
       "             Employee_Name  EmpID\n",
       "23          Blount, Dianna  10294\n",
       "53           Cole, Spencer  10292\n",
       "54       Corleone, Michael  10282\n",
       "73          DiNocco, Lily   10284\n",
       "84       Estremera, Miguel  10280\n",
       "85          Evensen, April  10296\n",
       "86          Exantus, Susan  10290\n",
       "105           Gilles, Alex  10283\n",
       "137      Immediato, Walter  10289\n",
       "190          Monroe, Peter  10288\n",
       "209          Owad, Clinton  10281\n",
       "214          Smith, Martin  10286\n",
       "215      Pelletier, Ermine  10297\n",
       "236       Robinson, Cherly  10285\n",
       "246  Saar-Beckles, Melinda  10295\n",
       "258            Smith, John  10291\n",
       "283             Trang, Mei  10287\n",
       "297       Wallace, Theresa  10293"
      ]
     },
     "execution_count": 21,
     "metadata": {},
     "output_type": "execute_result"
    }
   ],
   "source": [
    "underperforming_employees[[\"Employee_Name\",\"EmpID\"]]"
   ]
  },
  {
   "cell_type": "markdown",
   "id": "8cf80b3c-9876-42c8-a183-f53195c544e2",
   "metadata": {},
   "source": [
    "### Detrmining the names of the employees who are already enrolled in PIP\n"
   ]
  },
  {
   "cell_type": "code",
   "execution_count": 23,
   "id": "df84c9b3-8242-493e-843f-cafe74bd818e",
   "metadata": {},
   "outputs": [
    {
     "data": {
      "text/html": [
       "<div>\n",
       "<style scoped>\n",
       "    .dataframe tbody tr th:only-of-type {\n",
       "        vertical-align: middle;\n",
       "    }\n",
       "\n",
       "    .dataframe tbody tr th {\n",
       "        vertical-align: top;\n",
       "    }\n",
       "\n",
       "    .dataframe thead th {\n",
       "        text-align: right;\n",
       "    }\n",
       "</style>\n",
       "<table border=\"1\" class=\"dataframe\">\n",
       "  <thead>\n",
       "    <tr style=\"text-align: right;\">\n",
       "      <th></th>\n",
       "      <th>Employee_Name</th>\n",
       "      <th>EmpID</th>\n",
       "    </tr>\n",
       "  </thead>\n",
       "  <tbody>\n",
       "    <tr>\n",
       "      <th>67</th>\n",
       "      <td>Delarge, Alex</td>\n",
       "      <td>10306</td>\n",
       "    </tr>\n",
       "    <tr>\n",
       "      <th>69</th>\n",
       "      <td>Desimone, Carl</td>\n",
       "      <td>10310</td>\n",
       "    </tr>\n",
       "    <tr>\n",
       "      <th>72</th>\n",
       "      <td>Dietrich, Jenna</td>\n",
       "      <td>10304</td>\n",
       "    </tr>\n",
       "    <tr>\n",
       "      <th>83</th>\n",
       "      <td>Erilus, Angela</td>\n",
       "      <td>10299</td>\n",
       "    </tr>\n",
       "    <tr>\n",
       "      <th>90</th>\n",
       "      <td>Fernandes, Nilson</td>\n",
       "      <td>10308</td>\n",
       "    </tr>\n",
       "    <tr>\n",
       "      <th>91</th>\n",
       "      <td>Fett, Boba</td>\n",
       "      <td>10309</td>\n",
       "    </tr>\n",
       "    <tr>\n",
       "      <th>95</th>\n",
       "      <td>Forrest, Alex</td>\n",
       "      <td>10305</td>\n",
       "    </tr>\n",
       "    <tr>\n",
       "      <th>112</th>\n",
       "      <td>Gonzalez, Juan</td>\n",
       "      <td>10300</td>\n",
       "    </tr>\n",
       "    <tr>\n",
       "      <th>188</th>\n",
       "      <td>Miller, Ned</td>\n",
       "      <td>10298</td>\n",
       "    </tr>\n",
       "    <tr>\n",
       "      <th>205</th>\n",
       "      <td>O'hare, Lynn</td>\n",
       "      <td>10303</td>\n",
       "    </tr>\n",
       "    <tr>\n",
       "      <th>263</th>\n",
       "      <td>Sparks, Taylor</td>\n",
       "      <td>10302</td>\n",
       "    </tr>\n",
       "    <tr>\n",
       "      <th>267</th>\n",
       "      <td>Stansfield, Norman</td>\n",
       "      <td>10307</td>\n",
       "    </tr>\n",
       "    <tr>\n",
       "      <th>307</th>\n",
       "      <td>Ybarra, Catherine</td>\n",
       "      <td>10301</td>\n",
       "    </tr>\n",
       "  </tbody>\n",
       "</table>\n",
       "</div>"
      ],
      "text/plain": [
       "           Employee_Name  EmpID\n",
       "67         Delarge, Alex  10306\n",
       "69       Desimone, Carl   10310\n",
       "72     Dietrich, Jenna    10304\n",
       "83        Erilus, Angela  10299\n",
       "90   Fernandes, Nilson    10308\n",
       "91            Fett, Boba  10309\n",
       "95         Forrest, Alex  10305\n",
       "112       Gonzalez, Juan  10300\n",
       "188          Miller, Ned  10298\n",
       "205         O'hare, Lynn  10303\n",
       "263     Sparks, Taylor    10302\n",
       "267   Stansfield, Norman  10307\n",
       "307   Ybarra, Catherine   10301"
      ]
     },
     "execution_count": 23,
     "metadata": {},
     "output_type": "execute_result"
    }
   ],
   "source": [
    "pip_employees[[\"Employee_Name\",\"EmpID\"]]"
   ]
  },
  {
   "cell_type": "markdown",
   "id": "5b444a20-b7e0-4555-83ba-886aaf8511d3",
   "metadata": {},
   "source": [
    "# 14:00"
   ]
  },
  {
   "cell_type": "markdown",
   "id": "60c4436e-1337-4a53-acd3-100990f9d169",
   "metadata": {},
   "source": [
    "### Number of leaves of each employee"
   ]
  },
  {
   "cell_type": "code",
   "execution_count": 26,
   "id": "d04c4a93-df55-4b48-9132-5ea87ecf6d87",
   "metadata": {},
   "outputs": [],
   "source": [
    "df_columns = df.columns"
   ]
  },
  {
   "cell_type": "code",
   "execution_count": 27,
   "id": "72ad0599-9205-46ed-96aa-86f55bf00532",
   "metadata": {},
   "outputs": [
    {
     "data": {
      "text/plain": [
       "Index(['Employee_Name', 'EmpID', 'MarriedID', 'MaritalStatusID', 'GenderID',\n",
       "       'EmpStatusID', 'DeptID', 'PerfScoreID', 'FromDiversityJobFairID',\n",
       "       'Salary', 'Termd', 'PositionID', 'Position', 'State', 'Zip', 'DOB',\n",
       "       'Sex', 'MaritalDesc', 'CitizenDesc', 'HispanicLatino', 'RaceDesc',\n",
       "       'DateofHire', 'DateofTermination', 'TermReason', 'EmploymentStatus',\n",
       "       'Department', 'ManagerName', 'ManagerID', 'RecruitmentSource',\n",
       "       'PerformanceScore', 'EngagementSurvey', 'EmpSatisfaction',\n",
       "       'SpecialProjectsCount', 'LastPerformanceReview_Date', 'DaysLateLast30',\n",
       "       'Absences'],\n",
       "      dtype='object')"
      ]
     },
     "execution_count": 27,
     "metadata": {},
     "output_type": "execute_result"
    }
   ],
   "source": [
    "df_columns"
   ]
  },
  {
   "cell_type": "code",
   "execution_count": 28,
   "id": "d28455b5-fa99-47cc-b8b6-c91775bde7c7",
   "metadata": {},
   "outputs": [],
   "source": [
    "absecent_counts = df.groupby(\"Employee_Name\")[\"Absences\"].sum()"
   ]
  },
  {
   "cell_type": "code",
   "execution_count": 29,
   "id": "24169fb6-8058-41ce-9296-2a4d5953f021",
   "metadata": {},
   "outputs": [
    {
     "data": {
      "text/html": [
       "<div>\n",
       "<style scoped>\n",
       "    .dataframe tbody tr th:only-of-type {\n",
       "        vertical-align: middle;\n",
       "    }\n",
       "\n",
       "    .dataframe tbody tr th {\n",
       "        vertical-align: top;\n",
       "    }\n",
       "\n",
       "    .dataframe thead th {\n",
       "        text-align: right;\n",
       "    }\n",
       "</style>\n",
       "<table border=\"1\" class=\"dataframe\">\n",
       "  <thead>\n",
       "    <tr style=\"text-align: right;\">\n",
       "      <th></th>\n",
       "      <th>Employee_Name</th>\n",
       "      <th>Absences</th>\n",
       "    </tr>\n",
       "  </thead>\n",
       "  <tbody>\n",
       "    <tr>\n",
       "      <th>184</th>\n",
       "      <td>Mckenna, Sandy</td>\n",
       "      <td>20</td>\n",
       "    </tr>\n",
       "    <tr>\n",
       "      <th>15</th>\n",
       "      <td>Bates, Norman</td>\n",
       "      <td>20</td>\n",
       "    </tr>\n",
       "    <tr>\n",
       "      <th>110</th>\n",
       "      <td>Goeth, Amon</td>\n",
       "      <td>20</td>\n",
       "    </tr>\n",
       "    <tr>\n",
       "      <th>115</th>\n",
       "      <td>Good, Susan</td>\n",
       "      <td>20</td>\n",
       "    </tr>\n",
       "    <tr>\n",
       "      <th>122</th>\n",
       "      <td>Guilianno, Mike</td>\n",
       "      <td>20</td>\n",
       "    </tr>\n",
       "    <tr>\n",
       "      <th>...</th>\n",
       "      <td>...</td>\n",
       "      <td>...</td>\n",
       "    </tr>\n",
       "    <tr>\n",
       "      <th>146</th>\n",
       "      <td>Johnston, Yen</td>\n",
       "      <td>1</td>\n",
       "    </tr>\n",
       "    <tr>\n",
       "      <th>191</th>\n",
       "      <td>Monterro, Luisa</td>\n",
       "      <td>1</td>\n",
       "    </tr>\n",
       "    <tr>\n",
       "      <th>207</th>\n",
       "      <td>Onque, Jasmine</td>\n",
       "      <td>1</td>\n",
       "    </tr>\n",
       "    <tr>\n",
       "      <th>279</th>\n",
       "      <td>Theamstern, Sophia</td>\n",
       "      <td>1</td>\n",
       "    </tr>\n",
       "    <tr>\n",
       "      <th>0</th>\n",
       "      <td>Adinolfi, Wilson  K</td>\n",
       "      <td>1</td>\n",
       "    </tr>\n",
       "  </tbody>\n",
       "</table>\n",
       "<p>311 rows × 2 columns</p>\n",
       "</div>"
      ],
      "text/plain": [
       "           Employee_Name  Absences\n",
       "184       Mckenna, Sandy        20\n",
       "15         Bates, Norman        20\n",
       "110          Goeth, Amon        20\n",
       "115          Good, Susan        20\n",
       "122      Guilianno, Mike        20\n",
       "..                   ...       ...\n",
       "146        Johnston, Yen         1\n",
       "191      Monterro, Luisa         1\n",
       "207       Onque, Jasmine         1\n",
       "279   Theamstern, Sophia         1\n",
       "0    Adinolfi, Wilson  K         1\n",
       "\n",
       "[311 rows x 2 columns]"
      ]
     },
     "execution_count": 29,
     "metadata": {},
     "output_type": "execute_result"
    }
   ],
   "source": [
    "absecent_counts = absecent_counts.reset_index()\n",
    "absecent_counts.sort_values(\"Absences\",ascending=False)"
   ]
  },
  {
   "cell_type": "code",
   "execution_count": 30,
   "id": "901ec870-53f7-4e53-aee0-5e25047f70af",
   "metadata": {},
   "outputs": [
    {
     "data": {
      "text/plain": [
       "[20, 19, 18, 17, 16, 15, 14, 13, 12, 11, 10, 9, 8, 7, 6, 5, 4, 3, 2, 1]"
      ]
     },
     "execution_count": 30,
     "metadata": {},
     "output_type": "execute_result"
    }
   ],
   "source": [
    "absecent_counts = absecent_counts.sort_values(\"Absences\",ascending=False)\n",
    "number_of_absences = list(absecent_counts[\"Absences\"].unique())\n",
    "number_of_absences"
   ]
  },
  {
   "cell_type": "markdown",
   "id": "c150366e-5713-4459-9e31-48620d442d57",
   "metadata": {},
   "source": [
    "### Determine the Names of the employees which were on Leave for 10 days "
   ]
  },
  {
   "cell_type": "code",
   "execution_count": 32,
   "id": "4b5ff472-7e29-4a6b-9a68-c6e5d9165340",
   "metadata": {},
   "outputs": [
    {
     "data": {
      "text/html": [
       "<div>\n",
       "<style scoped>\n",
       "    .dataframe tbody tr th:only-of-type {\n",
       "        vertical-align: middle;\n",
       "    }\n",
       "\n",
       "    .dataframe tbody tr th {\n",
       "        vertical-align: top;\n",
       "    }\n",
       "\n",
       "    .dataframe thead th {\n",
       "        text-align: right;\n",
       "    }\n",
       "</style>\n",
       "<table border=\"1\" class=\"dataframe\">\n",
       "  <thead>\n",
       "    <tr style=\"text-align: right;\">\n",
       "      <th></th>\n",
       "      <th>Employee_Name</th>\n",
       "      <th>Absences</th>\n",
       "    </tr>\n",
       "  </thead>\n",
       "  <tbody>\n",
       "    <tr>\n",
       "      <th>186</th>\n",
       "      <td>Medeiros, Jennifer</td>\n",
       "      <td>10</td>\n",
       "    </tr>\n",
       "    <tr>\n",
       "      <th>199</th>\n",
       "      <td>Ndzi, Horia</td>\n",
       "      <td>10</td>\n",
       "    </tr>\n",
       "    <tr>\n",
       "      <th>227</th>\n",
       "      <td>Rachael, Maggie</td>\n",
       "      <td>10</td>\n",
       "    </tr>\n",
       "    <tr>\n",
       "      <th>232</th>\n",
       "      <td>Roberson, May</td>\n",
       "      <td>10</td>\n",
       "    </tr>\n",
       "    <tr>\n",
       "      <th>166</th>\n",
       "      <td>Lecter, Hannibal</td>\n",
       "      <td>10</td>\n",
       "    </tr>\n",
       "    <tr>\n",
       "      <th>272</th>\n",
       "      <td>Sullivan, Timothy</td>\n",
       "      <td>10</td>\n",
       "    </tr>\n",
       "    <tr>\n",
       "      <th>109</th>\n",
       "      <td>Goble, Taisha</td>\n",
       "      <td>10</td>\n",
       "    </tr>\n",
       "    <tr>\n",
       "      <th>113</th>\n",
       "      <td>Gonzalez, Juan</td>\n",
       "      <td>10</td>\n",
       "    </tr>\n",
       "    <tr>\n",
       "      <th>149</th>\n",
       "      <td>Keatts, Kramer</td>\n",
       "      <td>10</td>\n",
       "    </tr>\n",
       "    <tr>\n",
       "      <th>151</th>\n",
       "      <td>King, Janet</td>\n",
       "      <td>10</td>\n",
       "    </tr>\n",
       "  </tbody>\n",
       "</table>\n",
       "</div>"
      ],
      "text/plain": [
       "          Employee_Name  Absences\n",
       "186  Medeiros, Jennifer        10\n",
       "199         Ndzi, Horia        10\n",
       "227     Rachael, Maggie        10\n",
       "232       Roberson, May        10\n",
       "166    Lecter, Hannibal        10\n",
       "272   Sullivan, Timothy        10\n",
       "109       Goble, Taisha        10\n",
       "113      Gonzalez, Juan        10\n",
       "149     Keatts, Kramer         10\n",
       "151         King, Janet        10"
      ]
     },
     "execution_count": 32,
     "metadata": {},
     "output_type": "execute_result"
    }
   ],
   "source": [
    "absecent_counts[absecent_counts[\"Absences\"]==10]"
   ]
  },
  {
   "cell_type": "markdown",
   "id": "f75e2907-9edc-4082-b519-ccde223cfb6c",
   "metadata": {},
   "source": [
    "### 15:17 Hr wants to know the count of married employee vs unmaried employees"
   ]
  },
  {
   "cell_type": "code",
   "execution_count": 34,
   "id": "8a369779-ff43-48d3-b812-4ed0175a1973",
   "metadata": {},
   "outputs": [
    {
     "data": {
      "text/plain": [
       "MaritalDesc\n",
       "Single       137\n",
       "Married      124\n",
       "Divorced      30\n",
       "Separated     12\n",
       "Widowed        8\n",
       "Name: count, dtype: int64"
      ]
     },
     "execution_count": 34,
     "metadata": {},
     "output_type": "execute_result"
    }
   ],
   "source": [
    "# Determining the different status of the employees\n",
    "df[\"MaritalDesc\"].value_counts()"
   ]
  },
  {
   "cell_type": "code",
   "execution_count": 35,
   "id": "f7b2b57e-0321-4276-bb55-6db73f64a1a0",
   "metadata": {},
   "outputs": [],
   "source": [
    "df2=df[\"MarriedID\"].value_counts().reset_index()\n"
   ]
  },
  {
   "cell_type": "markdown",
   "id": "38a90344-25e9-4330-b8ec-4578ba740f34",
   "metadata": {},
   "source": [
    "### So the emploeeys with MArried ID 0 are umarried\n",
    "### Employees with married id 1 ar married already"
   ]
  },
  {
   "cell_type": "code",
   "execution_count": 36,
   "id": "d5b1a884-dbbd-4282-be71-722feb2e8496",
   "metadata": {},
   "outputs": [],
   "source": [
    "Status = []\n",
    "for x in df2[\"MarriedID\"]:\n",
    "    if x == 1:\n",
    "        Status.append(\"Married\")\n",
    "    else:\n",
    "        Status.append(\"Unmarried\")\n",
    "        \n",
    "        "
   ]
  },
  {
   "cell_type": "code",
   "execution_count": 37,
   "id": "aef7b6cd-5445-4862-b7a7-ec40809be793",
   "metadata": {},
   "outputs": [],
   "source": [
    "df2[\"Status\"] = Status"
   ]
  },
  {
   "cell_type": "code",
   "execution_count": 38,
   "id": "c174edab-c938-4de5-a536-7c5cb46933dd",
   "metadata": {},
   "outputs": [
    {
     "data": {
      "text/html": [
       "<div>\n",
       "<style scoped>\n",
       "    .dataframe tbody tr th:only-of-type {\n",
       "        vertical-align: middle;\n",
       "    }\n",
       "\n",
       "    .dataframe tbody tr th {\n",
       "        vertical-align: top;\n",
       "    }\n",
       "\n",
       "    .dataframe thead th {\n",
       "        text-align: right;\n",
       "    }\n",
       "</style>\n",
       "<table border=\"1\" class=\"dataframe\">\n",
       "  <thead>\n",
       "    <tr style=\"text-align: right;\">\n",
       "      <th></th>\n",
       "      <th>MarriedID</th>\n",
       "      <th>count</th>\n",
       "      <th>Status</th>\n",
       "    </tr>\n",
       "  </thead>\n",
       "  <tbody>\n",
       "    <tr>\n",
       "      <th>0</th>\n",
       "      <td>0</td>\n",
       "      <td>187</td>\n",
       "      <td>Unmarried</td>\n",
       "    </tr>\n",
       "    <tr>\n",
       "      <th>1</th>\n",
       "      <td>1</td>\n",
       "      <td>124</td>\n",
       "      <td>Married</td>\n",
       "    </tr>\n",
       "  </tbody>\n",
       "</table>\n",
       "</div>"
      ],
      "text/plain": [
       "   MarriedID  count     Status\n",
       "0          0    187  Unmarried\n",
       "1          1    124    Married"
      ]
     },
     "execution_count": 38,
     "metadata": {},
     "output_type": "execute_result"
    }
   ],
   "source": [
    "df2"
   ]
  },
  {
   "cell_type": "code",
   "execution_count": 39,
   "id": "0986658f-3381-4f15-bb70-92c1b6907f69",
   "metadata": {},
   "outputs": [
    {
     "data": {
      "image/png": "[encoded data removed]",
      "text/plain": [
       "<Figure size 600x600 with 1 Axes>"
      ]
     },
     "metadata": {},
     "output_type": "display_data"
    }
   ],
   "source": [
    "# Plotting the pie chart  \n",
    "plt.figure(figsize=(6,6))  \n",
    "plt.pie(df2[\"count\"], labels=df2[\"Status\"], autopct='%1.1f%%', colors=['lightcoral', 'lightskyblue'], startangle=140)  \n",
    "plt.title('Marital Status Distribution')  \n",
    "plt.show()"
   ]
  },
  {
   "cell_type": "markdown",
   "id": "6048990e-407c-4894-8012-5209f64b5de5",
   "metadata": {},
   "source": [
    "### 16:00 Determine the names of the employees who got the speccial projects"
   ]
  },
  {
   "cell_type": "code",
   "execution_count": 41,
   "id": "25c64208-06ef-4a42-adba-353629c209bf",
   "metadata": {},
   "outputs": [
    {
     "data": {
      "text/plain": [
       "Index(['Employee_Name', 'EmpID', 'MarriedID', 'MaritalStatusID', 'GenderID',\n",
       "       'EmpStatusID', 'DeptID', 'PerfScoreID', 'FromDiversityJobFairID',\n",
       "       'Salary', 'Termd', 'PositionID', 'Position', 'State', 'Zip', 'DOB',\n",
       "       'Sex', 'MaritalDesc', 'CitizenDesc', 'HispanicLatino', 'RaceDesc',\n",
       "       'DateofHire', 'DateofTermination', 'TermReason', 'EmploymentStatus',\n",
       "       'Department', 'ManagerName', 'ManagerID', 'RecruitmentSource',\n",
       "       'PerformanceScore', 'EngagementSurvey', 'EmpSatisfaction',\n",
       "       'SpecialProjectsCount', 'LastPerformanceReview_Date', 'DaysLateLast30',\n",
       "       'Absences'],\n",
       "      dtype='object')"
      ]
     },
     "execution_count": 41,
     "metadata": {},
     "output_type": "execute_result"
    }
   ],
   "source": [
    "df.columns"
   ]
  },
  {
   "cell_type": "code",
   "execution_count": 42,
   "id": "7ae29ae4-8a64-4d25-a49f-546a3f937c4c",
   "metadata": {},
   "outputs": [
    {
     "data": {
      "text/plain": [
       "array([0, 6, 4, 5, 7, 3, 8, 2, 1], dtype=int64)"
      ]
     },
     "execution_count": 42,
     "metadata": {},
     "output_type": "execute_result"
    }
   ],
   "source": [
    "df[[\"Employee_Name\",\"SpecialProjectsCount\"]]\n",
    "ProjectCounts = df[\"SpecialProjectsCount\"].unique()\n",
    "ProjectCounts"
   ]
  },
  {
   "cell_type": "code",
   "execution_count": 43,
   "id": "0ad2da58-b042-494e-a5c2-a1e502d9a535",
   "metadata": {},
   "outputs": [
    {
     "data": {
      "text/plain": [
       "8"
      ]
     },
     "execution_count": 43,
     "metadata": {},
     "output_type": "execute_result"
    }
   ],
   "source": [
    "# So we conclude that the maximum number of Special Projects given toan individula emplyee is 8\n",
    "ProjectCounts.max()"
   ]
  },
  {
   "cell_type": "markdown",
   "id": "2648afb8-c3bc-48f3-b6e5-77028f1376aa",
   "metadata": {},
   "source": [
    "### Detemine the name of the Employees who have Highest nuumber of employees on the portfolio\n"
   ]
  },
  {
   "cell_type": "code",
   "execution_count": 45,
   "id": "7ea8942c-9235-4006-899f-ee6ca1df9ff2",
   "metadata": {},
   "outputs": [],
   "source": [
    "SpecialProjCounts = df.groupby(\"Employee_Name\")[\"SpecialProjectsCount\"].sum()"
   ]
  },
  {
   "cell_type": "code",
   "execution_count": 46,
   "id": "6a0a9927-c2b1-4946-ae06-f8d1368d2d67",
   "metadata": {},
   "outputs": [
    {
     "data": {
      "text/html": [
       "<div>\n",
       "<style scoped>\n",
       "    .dataframe tbody tr th:only-of-type {\n",
       "        vertical-align: middle;\n",
       "    }\n",
       "\n",
       "    .dataframe tbody tr th {\n",
       "        vertical-align: top;\n",
       "    }\n",
       "\n",
       "    .dataframe thead th {\n",
       "        text-align: right;\n",
       "    }\n",
       "</style>\n",
       "<table border=\"1\" class=\"dataframe\">\n",
       "  <thead>\n",
       "    <tr style=\"text-align: right;\">\n",
       "      <th></th>\n",
       "      <th>Employee_Name</th>\n",
       "      <th>SpecialProjectsCount</th>\n",
       "    </tr>\n",
       "  </thead>\n",
       "  <tbody>\n",
       "    <tr>\n",
       "      <th>0</th>\n",
       "      <td>Adinolfi, Wilson  K</td>\n",
       "      <td>0</td>\n",
       "    </tr>\n",
       "    <tr>\n",
       "      <th>1</th>\n",
       "      <td>Ait Sidi, Karthikeyan</td>\n",
       "      <td>6</td>\n",
       "    </tr>\n",
       "    <tr>\n",
       "      <th>2</th>\n",
       "      <td>Akinkuolie, Sarah</td>\n",
       "      <td>0</td>\n",
       "    </tr>\n",
       "    <tr>\n",
       "      <th>3</th>\n",
       "      <td>Alagbe,Trina</td>\n",
       "      <td>0</td>\n",
       "    </tr>\n",
       "    <tr>\n",
       "      <th>4</th>\n",
       "      <td>Anderson, Carol</td>\n",
       "      <td>0</td>\n",
       "    </tr>\n",
       "    <tr>\n",
       "      <th>...</th>\n",
       "      <td>...</td>\n",
       "      <td>...</td>\n",
       "    </tr>\n",
       "    <tr>\n",
       "      <th>306</th>\n",
       "      <td>Woodson, Jason</td>\n",
       "      <td>0</td>\n",
       "    </tr>\n",
       "    <tr>\n",
       "      <th>307</th>\n",
       "      <td>Ybarra, Catherine</td>\n",
       "      <td>0</td>\n",
       "    </tr>\n",
       "    <tr>\n",
       "      <th>308</th>\n",
       "      <td>Zamora, Jennifer</td>\n",
       "      <td>6</td>\n",
       "    </tr>\n",
       "    <tr>\n",
       "      <th>309</th>\n",
       "      <td>Zhou, Julia</td>\n",
       "      <td>5</td>\n",
       "    </tr>\n",
       "    <tr>\n",
       "      <th>310</th>\n",
       "      <td>Zima, Colleen</td>\n",
       "      <td>0</td>\n",
       "    </tr>\n",
       "  </tbody>\n",
       "</table>\n",
       "<p>311 rows × 2 columns</p>\n",
       "</div>"
      ],
      "text/plain": [
       "                Employee_Name  SpecialProjectsCount\n",
       "0         Adinolfi, Wilson  K                     0\n",
       "1    Ait Sidi, Karthikeyan                        6\n",
       "2           Akinkuolie, Sarah                     0\n",
       "3                Alagbe,Trina                     0\n",
       "4            Anderson, Carol                      0\n",
       "..                        ...                   ...\n",
       "306            Woodson, Jason                     0\n",
       "307        Ybarra, Catherine                      0\n",
       "308          Zamora, Jennifer                     6\n",
       "309               Zhou, Julia                     5\n",
       "310             Zima, Colleen                     0\n",
       "\n",
       "[311 rows x 2 columns]"
      ]
     },
     "execution_count": 46,
     "metadata": {},
     "output_type": "execute_result"
    }
   ],
   "source": [
    "df_SpecialProjCounts = SpecialProjCounts.reset_index()\n",
    "df_SpecialProjCounts"
   ]
  },
  {
   "cell_type": "code",
   "execution_count": 47,
   "id": "4781c4f7-35c2-4494-8052-b80760e2a4fa",
   "metadata": {},
   "outputs": [
    {
     "data": {
      "text/plain": [
       "62      Daniele, Ann  \n",
       "299    Warfield, Sarah\n",
       "Name: Employee_Name, dtype: object"
      ]
     },
     "execution_count": 47,
     "metadata": {},
     "output_type": "execute_result"
    }
   ],
   "source": [
    "df_SpecialProjCounts[\"Employee_Name\"][df_SpecialProjCounts[\"SpecialProjectsCount\"]==8]"
   ]
  },
  {
   "cell_type": "markdown",
   "id": "0bfcf104-bdaf-4a60-9e9f-5b96387d8b59",
   "metadata": {},
   "source": [
    "### Determin the employees who have zero projcts on their portfolios"
   ]
  },
  {
   "cell_type": "code",
   "execution_count": 49,
   "id": "3c6aa825-d5a0-47e7-ba6a-cb6e04c95a7b",
   "metadata": {},
   "outputs": [
    {
     "data": {
      "text/plain": [
       "0      Adinolfi, Wilson  K\n",
       "2        Akinkuolie, Sarah\n",
       "3             Alagbe,Trina\n",
       "4         Anderson, Carol \n",
       "5        Anderson, Linda  \n",
       "              ...         \n",
       "304     Winthrop, Jordan  \n",
       "305          Wolk, Hang  T\n",
       "306         Woodson, Jason\n",
       "307     Ybarra, Catherine \n",
       "310          Zima, Colleen\n",
       "Name: Employee_Name, Length: 241, dtype: object"
      ]
     },
     "execution_count": 49,
     "metadata": {},
     "output_type": "execute_result"
    }
   ],
   "source": [
    "df_SpecialProjCounts[\"Employee_Name\"][df_SpecialProjCounts[\"SpecialProjectsCount\"]==0]"
   ]
  },
  {
   "cell_type": "markdown",
   "id": "67780092-2b5c-4a42-b349-748083920e28",
   "metadata": {},
   "source": [
    "### 18:00 Determine count of employees who have some or aany number of special projects on their Portfolio\n"
   ]
  },
  {
   "cell_type": "code",
   "execution_count": 51,
   "id": "c2046d0e-37fe-47fe-a4ef-9a1b6689fc1b",
   "metadata": {},
   "outputs": [],
   "source": [
    "df_SpecialProjCounts_Yes = df_SpecialProjCounts[\"Employee_Name\"][df_SpecialProjCounts[\"SpecialProjectsCount\"]!=0]"
   ]
  },
  {
   "cell_type": "code",
   "execution_count": 52,
   "id": "d1b46354-ec2d-4862-a4c1-650a4483bff8",
   "metadata": {},
   "outputs": [
    {
     "data": {
      "text/plain": [
       "70"
      ]
     },
     "execution_count": 52,
     "metadata": {},
     "output_type": "execute_result"
    }
   ],
   "source": [
    "df_SpecialProjCounts_Yes = df_SpecialProjCounts_Yes.reset_index()\n",
    "df_SpecialProjCounts_Yes[\"Employee_Name\"].count()"
   ]
  },
  {
   "cell_type": "code",
   "execution_count": 53,
   "id": "4b2a4251-da24-4b4d-99d2-073db11ceb8b",
   "metadata": {},
   "outputs": [],
   "source": [
    "# So we have 70 employees who have special projecects on their portfolio"
   ]
  },
  {
   "cell_type": "markdown",
   "id": "56541e3f-ba63-43e9-903c-1204622c8669",
   "metadata": {},
   "source": [
    "### 20:00 Highest Salary Vs Lowest Salary\n"
   ]
  },
  {
   "cell_type": "code",
   "execution_count": 55,
   "id": "e3c95fa4-feaa-4ec5-8d58-b7883af517cc",
   "metadata": {},
   "outputs": [
    {
     "name": "stdout",
     "output_type": "stream",
     "text": [
      "Highest Salary:  250000\n",
      "Lowest Salary:  45046\n",
      "Average Salary:  69020.6848874598\n"
     ]
    }
   ],
   "source": [
    "print(\"Highest Salary: \",df[\"Salary\"].max())\n",
    "print(\"Lowest Salary: \",df[\"Salary\"].min())\n",
    "print(\"Average Salary: \", df[\"Salary\"].mean())"
   ]
  },
  {
   "cell_type": "markdown",
   "id": "88e0e233-a382-4466-bed7-2f415c6cb06e",
   "metadata": {},
   "source": [
    "### 20:30 Determine the Top 10 Employees with Top10 Salaries"
   ]
  },
  {
   "cell_type": "code",
   "execution_count": 142,
   "id": "862c9a97-ec8a-49fc-883d-5a35056f15f0",
   "metadata": {},
   "outputs": [],
   "source": [
    "df_Salary_Employee = df.groupby(\"Salary\")[\"Employee_Name\"].sum()"
   ]
  },
  {
   "cell_type": "code",
   "execution_count": 154,
   "id": "b55022cc-ab7f-4559-ad1a-29d6797214b4",
   "metadata": {},
   "outputs": [],
   "source": [
    "df_Salary_Employee = df_Salary_Employee.reset_index()"
   ]
  },
  {
   "cell_type": "code",
   "execution_count": 188,
   "id": "cfe935ab-8641-4617-a841-28e6ee39858f",
   "metadata": {},
   "outputs": [
    {
     "data": {
      "text/html": [
       "<div>\n",
       "<style scoped>\n",
       "    .dataframe tbody tr th:only-of-type {\n",
       "        vertical-align: middle;\n",
       "    }\n",
       "\n",
       "    .dataframe tbody tr th {\n",
       "        vertical-align: top;\n",
       "    }\n",
       "\n",
       "    .dataframe thead th {\n",
       "        text-align: right;\n",
       "    }\n",
       "</style>\n",
       "<table border=\"1\" class=\"dataframe\">\n",
       "  <thead>\n",
       "    <tr style=\"text-align: right;\">\n",
       "      <th></th>\n",
       "      <th>Salary</th>\n",
       "      <th>Employee_Name</th>\n",
       "    </tr>\n",
       "  </thead>\n",
       "  <tbody>\n",
       "    <tr>\n",
       "      <th>307</th>\n",
       "      <td>250000</td>\n",
       "      <td>King, Janet</td>\n",
       "    </tr>\n",
       "    <tr>\n",
       "      <th>306</th>\n",
       "      <td>220450</td>\n",
       "      <td>Zamora, Jennifer</td>\n",
       "    </tr>\n",
       "    <tr>\n",
       "      <th>305</th>\n",
       "      <td>180000</td>\n",
       "      <td>Houlihan, Debra</td>\n",
       "    </tr>\n",
       "    <tr>\n",
       "      <th>304</th>\n",
       "      <td>178000</td>\n",
       "      <td>Foss, Jason</td>\n",
       "    </tr>\n",
       "    <tr>\n",
       "      <th>303</th>\n",
       "      <td>170500</td>\n",
       "      <td>Corleone, Vito</td>\n",
       "    </tr>\n",
       "    <tr>\n",
       "      <th>302</th>\n",
       "      <td>157000</td>\n",
       "      <td>Monroe, Peter</td>\n",
       "    </tr>\n",
       "    <tr>\n",
       "      <th>301</th>\n",
       "      <td>150290</td>\n",
       "      <td>Roper, Katie</td>\n",
       "    </tr>\n",
       "    <tr>\n",
       "      <th>300</th>\n",
       "      <td>148999</td>\n",
       "      <td>Ruiz, Ricardo</td>\n",
       "    </tr>\n",
       "    <tr>\n",
       "      <th>299</th>\n",
       "      <td>140920</td>\n",
       "      <td>Roup,Simon</td>\n",
       "    </tr>\n",
       "    <tr>\n",
       "      <th>298</th>\n",
       "      <td>138888</td>\n",
       "      <td>Dougall, Eric</td>\n",
       "    </tr>\n",
       "  </tbody>\n",
       "</table>\n",
       "</div>"
      ],
      "text/plain": [
       "     Salary     Employee_Name\n",
       "307  250000       King, Janet\n",
       "306  220450  Zamora, Jennifer\n",
       "305  180000   Houlihan, Debra\n",
       "304  178000       Foss, Jason\n",
       "303  170500    Corleone, Vito\n",
       "302  157000     Monroe, Peter\n",
       "301  150290      Roper, Katie\n",
       "300  148999     Ruiz, Ricardo\n",
       "299  140920        Roup,Simon\n",
       "298  138888     Dougall, Eric"
      ]
     },
     "execution_count": 188,
     "metadata": {},
     "output_type": "execute_result"
    }
   ],
   "source": [
    "Top10 = df_Salary_Employee[[\"Salary\",\"Employee_Name\"]].sort_values(\"Salary\",ascending=False).head(10)\n",
    "Top10"
   ]
  },
  {
   "cell_type": "code",
   "execution_count": 190,
   "id": "499fc7cf-36c4-4577-994c-85048f1ad64a",
   "metadata": {},
   "outputs": [
    {
     "data": {
      "text/html": [
       "<div>\n",
       "<style scoped>\n",
       "    .dataframe tbody tr th:only-of-type {\n",
       "        vertical-align: middle;\n",
       "    }\n",
       "\n",
       "    .dataframe tbody tr th {\n",
       "        vertical-align: top;\n",
       "    }\n",
       "\n",
       "    .dataframe thead th {\n",
       "        text-align: right;\n",
       "    }\n",
       "</style>\n",
       "<table border=\"1\" class=\"dataframe\">\n",
       "  <thead>\n",
       "    <tr style=\"text-align: right;\">\n",
       "      <th></th>\n",
       "      <th>Salary</th>\n",
       "      <th>Employee_Name</th>\n",
       "    </tr>\n",
       "  </thead>\n",
       "  <tbody>\n",
       "    <tr>\n",
       "      <th>9</th>\n",
       "      <td>46430</td>\n",
       "      <td>Purinton, Janine</td>\n",
       "    </tr>\n",
       "    <tr>\n",
       "      <th>8</th>\n",
       "      <td>46428</td>\n",
       "      <td>Sadki, Nore</td>\n",
       "    </tr>\n",
       "    <tr>\n",
       "      <th>7</th>\n",
       "      <td>46335</td>\n",
       "      <td>Dobrin, Denisa  S</td>\n",
       "    </tr>\n",
       "    <tr>\n",
       "      <th>6</th>\n",
       "      <td>46120</td>\n",
       "      <td>Langton, Enrico</td>\n",
       "    </tr>\n",
       "    <tr>\n",
       "      <th>5</th>\n",
       "      <td>45998</td>\n",
       "      <td>Perry, Shakira</td>\n",
       "    </tr>\n",
       "    <tr>\n",
       "      <th>4</th>\n",
       "      <td>45433</td>\n",
       "      <td>Kirill, Alexandra</td>\n",
       "    </tr>\n",
       "    <tr>\n",
       "      <th>3</th>\n",
       "      <td>45395</td>\n",
       "      <td>Mahoney, Lauren</td>\n",
       "    </tr>\n",
       "    <tr>\n",
       "      <th>2</th>\n",
       "      <td>45115</td>\n",
       "      <td>Rhoads, Thomas</td>\n",
       "    </tr>\n",
       "    <tr>\n",
       "      <th>1</th>\n",
       "      <td>45069</td>\n",
       "      <td>Jacobi, Hannah</td>\n",
       "    </tr>\n",
       "    <tr>\n",
       "      <th>0</th>\n",
       "      <td>45046</td>\n",
       "      <td>Zima, Colleen</td>\n",
       "    </tr>\n",
       "  </tbody>\n",
       "</table>\n",
       "</div>"
      ],
      "text/plain": [
       "   Salary        Employee_Name\n",
       "9   46430     Purinton, Janine\n",
       "8   46428        Sadki, Nore  \n",
       "7   46335    Dobrin, Denisa  S\n",
       "6   46120      Langton, Enrico\n",
       "5   45998       Perry, Shakira\n",
       "4   45433  Kirill, Alexandra  \n",
       "3   45395    Mahoney, Lauren  \n",
       "2   45115       Rhoads, Thomas\n",
       "1   45069     Jacobi, Hannah  \n",
       "0   45046        Zima, Colleen"
      ]
     },
     "execution_count": 190,
     "metadata": {},
     "output_type": "execute_result"
    }
   ],
   "source": [
    "Least10 = df_Salary_Employee[[\"Salary\",\"Employee_Name\"]].sort_values(\"Salary\",ascending=False).tail(10)\n",
    "Least10"
   ]
  },
  {
   "cell_type": "code",
   "execution_count": 194,
   "id": "ab3df4e0-24bf-4825-9252-45d5d65e2273",
   "metadata": {},
   "outputs": [
    {
     "name": "stderr",
     "output_type": "stream",
     "text": [
      "C:\\Users\\bhosa\\AppData\\Local\\Temp\\ipykernel_12032\\236410619.py:3: FutureWarning: \n",
      "\n",
      "Passing `palette` without assigning `hue` is deprecated and will be removed in v0.14.0. Assign the `y` variable to `hue` and set `legend=False` for the same effect.\n",
      "\n",
      "  sns.barplot(x=\"Salary\", y=\"Employee_Name\", data=Top10, palette=\"coolwarm\")\n"
     ]
    },
    {
     "data": {
      "image/png": "[encoded data removed]",
      "text/plain": [
       "<Figure size 1000x500 with 1 Axes>"
      ]
     },
     "metadata": {},
     "output_type": "display_data"
    }
   ],
   "source": [
    "# Plotting the bar chart  \n",
    "plt.figure(figsize=(10,5))  \n",
    "sns.barplot(x=\"Salary\", y=\"Employee_Name\", data=Top10, palette=\"coolwarm\")  \n",
    "\n",
    "plt.xlabel(\"Salary\")  \n",
    "plt.ylabel(\"Employee Name\")  \n",
    "plt.title(\"Top 10 Salaries in the Company\")  \n",
    "plt.xticks(rotation=45)  \n",
    "plt.show()"
   ]
  },
  {
   "cell_type": "code",
   "execution_count": 198,
   "id": "cde03c31-8f3b-4e29-be41-e51c89471fb1",
   "metadata": {},
   "outputs": [
    {
     "name": "stderr",
     "output_type": "stream",
     "text": [
      "C:\\Users\\bhosa\\AppData\\Local\\Temp\\ipykernel_12032\\784477215.py:3: FutureWarning: \n",
      "\n",
      "Passing `palette` without assigning `hue` is deprecated and will be removed in v0.14.0. Assign the `y` variable to `hue` and set `legend=False` for the same effect.\n",
      "\n",
      "  sns.barplot(x=\"Salary\", y=\"Employee_Name\", data=Least10, palette=\"coolwarm\")\n"
     ]
    },
    {
     "data": {
      "image/png": "[encoded data removed]",
      "text/plain": [
       "<Figure size 1000x500 with 1 Axes>"
      ]
     },
     "metadata": {},
     "output_type": "display_data"
    }
   ],
   "source": [
    "# Plotting the bar chart  \n",
    "plt.figure(figsize=(10,5))  \n",
    "sns.barplot(x=\"Salary\", y=\"Employee_Name\", data=Least10, palette=\"coolwarm\")  \n",
    "\n",
    "plt.xlabel(\"Salary\")  \n",
    "plt.ylabel(\"Employee Name\")  \n",
    "plt.title(\"Least 10 Salaries in the Company\")  \n",
    "plt.xticks(rotation=45)  \n",
    "plt.show()"
   ]
  },
  {
   "cell_type": "markdown",
   "id": "47d1ba2e-de9d-4808-83c5-0a22b302e45b",
   "metadata": {},
   "source": [
    "### Insights \n",
    "Top 10 Salaries vary a lot \n",
    "While Least 10 salaries are almost in the same range"
   ]
  },
  {
   "cell_type": "markdown",
   "id": "fa6fe1d2-27fa-4b2d-abf5-ae01599b80f9",
   "metadata": {},
   "source": [
    "### What is the most Popular recruitment source for Employees"
   ]
  },
  {
   "cell_type": "code",
   "execution_count": 220,
   "id": "825031bb-a7af-4fa4-9fd7-f13f738928aa",
   "metadata": {},
   "outputs": [
    {
     "data": {
      "text/html": [
       "<div>\n",
       "<style scoped>\n",
       "    .dataframe tbody tr th:only-of-type {\n",
       "        vertical-align: middle;\n",
       "    }\n",
       "\n",
       "    .dataframe tbody tr th {\n",
       "        vertical-align: top;\n",
       "    }\n",
       "\n",
       "    .dataframe thead th {\n",
       "        text-align: right;\n",
       "    }\n",
       "</style>\n",
       "<table border=\"1\" class=\"dataframe\">\n",
       "  <thead>\n",
       "    <tr style=\"text-align: right;\">\n",
       "      <th></th>\n",
       "      <th>RecruitmentSource</th>\n",
       "      <th>count</th>\n",
       "    </tr>\n",
       "  </thead>\n",
       "  <tbody>\n",
       "    <tr>\n",
       "      <th>0</th>\n",
       "      <td>Indeed</td>\n",
       "      <td>87</td>\n",
       "    </tr>\n",
       "    <tr>\n",
       "      <th>1</th>\n",
       "      <td>LinkedIn</td>\n",
       "      <td>76</td>\n",
       "    </tr>\n",
       "    <tr>\n",
       "      <th>2</th>\n",
       "      <td>Google Search</td>\n",
       "      <td>49</td>\n",
       "    </tr>\n",
       "    <tr>\n",
       "      <th>3</th>\n",
       "      <td>Employee Referral</td>\n",
       "      <td>31</td>\n",
       "    </tr>\n",
       "    <tr>\n",
       "      <th>4</th>\n",
       "      <td>Diversity Job Fair</td>\n",
       "      <td>29</td>\n",
       "    </tr>\n",
       "    <tr>\n",
       "      <th>5</th>\n",
       "      <td>CareerBuilder</td>\n",
       "      <td>23</td>\n",
       "    </tr>\n",
       "    <tr>\n",
       "      <th>6</th>\n",
       "      <td>Website</td>\n",
       "      <td>13</td>\n",
       "    </tr>\n",
       "    <tr>\n",
       "      <th>7</th>\n",
       "      <td>Other</td>\n",
       "      <td>2</td>\n",
       "    </tr>\n",
       "    <tr>\n",
       "      <th>8</th>\n",
       "      <td>On-line Web application</td>\n",
       "      <td>1</td>\n",
       "    </tr>\n",
       "  </tbody>\n",
       "</table>\n",
       "</div>"
      ],
      "text/plain": [
       "         RecruitmentSource  count\n",
       "0                   Indeed     87\n",
       "1                 LinkedIn     76\n",
       "2            Google Search     49\n",
       "3        Employee Referral     31\n",
       "4       Diversity Job Fair     29\n",
       "5            CareerBuilder     23\n",
       "6                  Website     13\n",
       "7                    Other      2\n",
       "8  On-line Web application      1"
      ]
     },
     "execution_count": 220,
     "metadata": {},
     "output_type": "execute_result"
    }
   ],
   "source": [
    "df_Recruitment = df[\"RecruitmentSource\"].value_counts().reset_index()\n",
    "df_Recruitment"
   ]
  },
  {
   "cell_type": "code",
   "execution_count": 226,
   "id": "6e8d6e25-dcc9-4c2d-9ef2-62f1ee9f8b05",
   "metadata": {},
   "outputs": [
    {
     "data": {
      "image/png": "[encoded data removed]",
      "text/plain": [
       "<Figure size 1400x600 with 2 Axes>"
      ]
     },
     "metadata": {},
     "output_type": "display_data"
    }
   ],
   "source": [
    "# Create a figure with two subplots  \n",
    "fig, axes = plt.subplots(1, 2, figsize=(14, 6))  \n",
    "\n",
    "# Colors for the charts  \n",
    "colors = ['lightblue', 'lightcoral', 'lightgreen', 'gold', 'violet',  \n",
    "          'orange', 'cyan', 'gray', 'pink']  \n",
    "\n",
    "# --- Pie Chart ---  \n",
    "axes[0].pie(df_Recruitment[\"count\"], labels=df_Recruitment[\"RecruitmentSource\"], autopct='%1.1f%%',  \n",
    "            colors=colors, startangle=140, wedgeprops={'edgecolor': 'black'})  \n",
    "axes[0].set_title(\"Recruitment Source Distribution (Pie Chart)\")  \n",
    "\n",
    "# --- Bar Chart ---  \n",
    "axes[1].barh(df_Recruitment[\"RecruitmentSource\"], df_Recruitment[\"count\"], color=colors)  \n",
    "axes[1].set_xlabel(\"Count\")  \n",
    "axes[1].set_ylabel(\"Recruitment Source\")  \n",
    "axes[1].set_title(\"Recruitment Source Distribution (Bar Chart)\")  \n",
    "axes[1].invert_yaxis()  # Invert to match pie chart order  \n",
    "\n",
    "# Adjust layout and show the charts  \n",
    "plt.tight_layout()  \n",
    "plt.show()  "
   ]
  },
  {
   "cell_type": "markdown",
   "id": "8b312453-6cc3-41c7-971a-c0b27d93e3bc",
   "metadata": {},
   "source": [
    "### 33:48  Analyse the Employee Staisfaction Stats"
   ]
  },
  {
   "cell_type": "code",
   "execution_count": 233,
   "id": "7924a6f4-c065-408a-9d57-99f073c170d7",
   "metadata": {},
   "outputs": [
    {
     "data": {
      "text/plain": [
       "array([5, 3, 4, 2, 1], dtype=int64)"
      ]
     },
     "execution_count": 233,
     "metadata": {},
     "output_type": "execute_result"
    }
   ],
   "source": [
    "df[\"EmpSatisfaction\"].unique()\n",
    "# So we confirm that the Employee Staifaction is measured on the scale of 1 to 5"
   ]
  },
  {
   "cell_type": "code",
   "execution_count": 272,
   "id": "443168cd-8ec9-4b80-a578-42eeb6f9be6c",
   "metadata": {},
   "outputs": [
    {
     "data": {
      "text/plain": [
       "Index(['Employee_Name', 'EmpID', 'MarriedID', 'MaritalStatusID', 'GenderID',\n",
       "       'EmpStatusID', 'DeptID', 'PerfScoreID', 'FromDiversityJobFairID',\n",
       "       'Salary', 'Termd', 'PositionID', 'Position', 'State', 'Zip', 'DOB',\n",
       "       'Sex', 'MaritalDesc', 'CitizenDesc', 'HispanicLatino', 'RaceDesc',\n",
       "       'DateofHire', 'DateofTermination', 'TermReason', 'EmploymentStatus',\n",
       "       'Department', 'ManagerName', 'ManagerID', 'RecruitmentSource',\n",
       "       'PerformanceScore', 'EngagementSurvey', 'EmpSatisfaction',\n",
       "       'SpecialProjectsCount', 'LastPerformanceReview_Date', 'DaysLateLast30',\n",
       "       'Absences'],\n",
       "      dtype='object')"
      ]
     },
     "execution_count": 272,
     "metadata": {},
     "output_type": "execute_result"
    }
   ],
   "source": [
    "df.columns"
   ]
  },
  {
   "cell_type": "code",
   "execution_count": 298,
   "id": "aecbff2f-8d04-4cef-83d7-eaa7347b3823",
   "metadata": {},
   "outputs": [
    {
     "data": {
      "text/html": [
       "<div>\n",
       "<style scoped>\n",
       "    .dataframe tbody tr th:only-of-type {\n",
       "        vertical-align: middle;\n",
       "    }\n",
       "\n",
       "    .dataframe tbody tr th {\n",
       "        vertical-align: top;\n",
       "    }\n",
       "\n",
       "    .dataframe thead th {\n",
       "        text-align: right;\n",
       "    }\n",
       "</style>\n",
       "<table border=\"1\" class=\"dataframe\">\n",
       "  <thead>\n",
       "    <tr style=\"text-align: right;\">\n",
       "      <th></th>\n",
       "      <th>RecruitmentSource</th>\n",
       "      <th>EmpSatisfaction</th>\n",
       "      <th>Employee_Name</th>\n",
       "    </tr>\n",
       "  </thead>\n",
       "  <tbody>\n",
       "    <tr>\n",
       "      <th>0</th>\n",
       "      <td>CareerBuilder</td>\n",
       "      <td>2</td>\n",
       "      <td>1</td>\n",
       "    </tr>\n",
       "    <tr>\n",
       "      <th>1</th>\n",
       "      <td>CareerBuilder</td>\n",
       "      <td>3</td>\n",
       "      <td>10</td>\n",
       "    </tr>\n",
       "    <tr>\n",
       "      <th>2</th>\n",
       "      <td>CareerBuilder</td>\n",
       "      <td>4</td>\n",
       "      <td>8</td>\n",
       "    </tr>\n",
       "    <tr>\n",
       "      <th>3</th>\n",
       "      <td>CareerBuilder</td>\n",
       "      <td>5</td>\n",
       "      <td>4</td>\n",
       "    </tr>\n",
       "    <tr>\n",
       "      <th>4</th>\n",
       "      <td>Diversity Job Fair</td>\n",
       "      <td>2</td>\n",
       "      <td>1</td>\n",
       "    </tr>\n",
       "    <tr>\n",
       "      <th>5</th>\n",
       "      <td>Diversity Job Fair</td>\n",
       "      <td>3</td>\n",
       "      <td>8</td>\n",
       "    </tr>\n",
       "    <tr>\n",
       "      <th>6</th>\n",
       "      <td>Diversity Job Fair</td>\n",
       "      <td>4</td>\n",
       "      <td>16</td>\n",
       "    </tr>\n",
       "    <tr>\n",
       "      <th>7</th>\n",
       "      <td>Diversity Job Fair</td>\n",
       "      <td>5</td>\n",
       "      <td>4</td>\n",
       "    </tr>\n",
       "    <tr>\n",
       "      <th>8</th>\n",
       "      <td>Employee Referral</td>\n",
       "      <td>3</td>\n",
       "      <td>12</td>\n",
       "    </tr>\n",
       "    <tr>\n",
       "      <th>9</th>\n",
       "      <td>Employee Referral</td>\n",
       "      <td>4</td>\n",
       "      <td>9</td>\n",
       "    </tr>\n",
       "    <tr>\n",
       "      <th>10</th>\n",
       "      <td>Employee Referral</td>\n",
       "      <td>5</td>\n",
       "      <td>10</td>\n",
       "    </tr>\n",
       "    <tr>\n",
       "      <th>11</th>\n",
       "      <td>Google Search</td>\n",
       "      <td>2</td>\n",
       "      <td>1</td>\n",
       "    </tr>\n",
       "    <tr>\n",
       "      <th>12</th>\n",
       "      <td>Google Search</td>\n",
       "      <td>3</td>\n",
       "      <td>14</td>\n",
       "    </tr>\n",
       "    <tr>\n",
       "      <th>13</th>\n",
       "      <td>Google Search</td>\n",
       "      <td>4</td>\n",
       "      <td>15</td>\n",
       "    </tr>\n",
       "    <tr>\n",
       "      <th>14</th>\n",
       "      <td>Google Search</td>\n",
       "      <td>5</td>\n",
       "      <td>19</td>\n",
       "    </tr>\n",
       "    <tr>\n",
       "      <th>15</th>\n",
       "      <td>Indeed</td>\n",
       "      <td>1</td>\n",
       "      <td>1</td>\n",
       "    </tr>\n",
       "    <tr>\n",
       "      <th>16</th>\n",
       "      <td>Indeed</td>\n",
       "      <td>2</td>\n",
       "      <td>3</td>\n",
       "    </tr>\n",
       "    <tr>\n",
       "      <th>17</th>\n",
       "      <td>Indeed</td>\n",
       "      <td>3</td>\n",
       "      <td>29</td>\n",
       "    </tr>\n",
       "    <tr>\n",
       "      <th>18</th>\n",
       "      <td>Indeed</td>\n",
       "      <td>4</td>\n",
       "      <td>21</td>\n",
       "    </tr>\n",
       "    <tr>\n",
       "      <th>19</th>\n",
       "      <td>Indeed</td>\n",
       "      <td>5</td>\n",
       "      <td>33</td>\n",
       "    </tr>\n",
       "    <tr>\n",
       "      <th>20</th>\n",
       "      <td>LinkedIn</td>\n",
       "      <td>2</td>\n",
       "      <td>2</td>\n",
       "    </tr>\n",
       "    <tr>\n",
       "      <th>21</th>\n",
       "      <td>LinkedIn</td>\n",
       "      <td>3</td>\n",
       "      <td>29</td>\n",
       "    </tr>\n",
       "    <tr>\n",
       "      <th>22</th>\n",
       "      <td>LinkedIn</td>\n",
       "      <td>4</td>\n",
       "      <td>20</td>\n",
       "    </tr>\n",
       "    <tr>\n",
       "      <th>23</th>\n",
       "      <td>LinkedIn</td>\n",
       "      <td>5</td>\n",
       "      <td>25</td>\n",
       "    </tr>\n",
       "    <tr>\n",
       "      <th>24</th>\n",
       "      <td>On-line Web application</td>\n",
       "      <td>5</td>\n",
       "      <td>1</td>\n",
       "    </tr>\n",
       "    <tr>\n",
       "      <th>25</th>\n",
       "      <td>Other</td>\n",
       "      <td>3</td>\n",
       "      <td>1</td>\n",
       "    </tr>\n",
       "    <tr>\n",
       "      <th>26</th>\n",
       "      <td>Other</td>\n",
       "      <td>4</td>\n",
       "      <td>1</td>\n",
       "    </tr>\n",
       "    <tr>\n",
       "      <th>27</th>\n",
       "      <td>Website</td>\n",
       "      <td>1</td>\n",
       "      <td>1</td>\n",
       "    </tr>\n",
       "    <tr>\n",
       "      <th>28</th>\n",
       "      <td>Website</td>\n",
       "      <td>2</td>\n",
       "      <td>1</td>\n",
       "    </tr>\n",
       "    <tr>\n",
       "      <th>29</th>\n",
       "      <td>Website</td>\n",
       "      <td>3</td>\n",
       "      <td>5</td>\n",
       "    </tr>\n",
       "    <tr>\n",
       "      <th>30</th>\n",
       "      <td>Website</td>\n",
       "      <td>4</td>\n",
       "      <td>4</td>\n",
       "    </tr>\n",
       "    <tr>\n",
       "      <th>31</th>\n",
       "      <td>Website</td>\n",
       "      <td>5</td>\n",
       "      <td>2</td>\n",
       "    </tr>\n",
       "  </tbody>\n",
       "</table>\n",
       "</div>"
      ],
      "text/plain": [
       "          RecruitmentSource  EmpSatisfaction  Employee_Name\n",
       "0             CareerBuilder                2              1\n",
       "1             CareerBuilder                3             10\n",
       "2             CareerBuilder                4              8\n",
       "3             CareerBuilder                5              4\n",
       "4        Diversity Job Fair                2              1\n",
       "5        Diversity Job Fair                3              8\n",
       "6        Diversity Job Fair                4             16\n",
       "7        Diversity Job Fair                5              4\n",
       "8         Employee Referral                3             12\n",
       "9         Employee Referral                4              9\n",
       "10        Employee Referral                5             10\n",
       "11            Google Search                2              1\n",
       "12            Google Search                3             14\n",
       "13            Google Search                4             15\n",
       "14            Google Search                5             19\n",
       "15                   Indeed                1              1\n",
       "16                   Indeed                2              3\n",
       "17                   Indeed                3             29\n",
       "18                   Indeed                4             21\n",
       "19                   Indeed                5             33\n",
       "20                 LinkedIn                2              2\n",
       "21                 LinkedIn                3             29\n",
       "22                 LinkedIn                4             20\n",
       "23                 LinkedIn                5             25\n",
       "24  On-line Web application                5              1\n",
       "25                    Other                3              1\n",
       "26                    Other                4              1\n",
       "27                  Website                1              1\n",
       "28                  Website                2              1\n",
       "29                  Website                3              5\n",
       "30                  Website                4              4\n",
       "31                  Website                5              2"
      ]
     },
     "execution_count": 298,
     "metadata": {},
     "output_type": "execute_result"
    }
   ],
   "source": [
    "df_Satisfaction = df.groupby([\"RecruitmentSource\",\"EmpSatisfaction\"])[\"Employee_Name\"].count()\n",
    "df_Satisfaction = df_Satisfaction.reset_index()\n",
    "df_Satisfaction"
   ]
  },
  {
   "cell_type": "code",
   "execution_count": 306,
   "id": "fb882342-5b09-46e5-8fbe-bf035b56e5b0",
   "metadata": {
    "scrolled": true
   },
   "outputs": [
    {
     "data": {
      "text/html": [
       "<div>\n",
       "<style scoped>\n",
       "    .dataframe tbody tr th:only-of-type {\n",
       "        vertical-align: middle;\n",
       "    }\n",
       "\n",
       "    .dataframe tbody tr th {\n",
       "        vertical-align: top;\n",
       "    }\n",
       "\n",
       "    .dataframe thead th {\n",
       "        text-align: right;\n",
       "    }\n",
       "</style>\n",
       "<table border=\"1\" class=\"dataframe\">\n",
       "  <thead>\n",
       "    <tr style=\"text-align: right;\">\n",
       "      <th>EmpSatisfaction</th>\n",
       "      <th>RecruitmentSource</th>\n",
       "      <th>1</th>\n",
       "      <th>2</th>\n",
       "      <th>3</th>\n",
       "      <th>4</th>\n",
       "      <th>5</th>\n",
       "    </tr>\n",
       "  </thead>\n",
       "  <tbody>\n",
       "    <tr>\n",
       "      <th>0</th>\n",
       "      <td>CareerBuilder</td>\n",
       "      <td>0.0</td>\n",
       "      <td>1.0</td>\n",
       "      <td>10.0</td>\n",
       "      <td>8.0</td>\n",
       "      <td>4.0</td>\n",
       "    </tr>\n",
       "    <tr>\n",
       "      <th>1</th>\n",
       "      <td>Diversity Job Fair</td>\n",
       "      <td>0.0</td>\n",
       "      <td>1.0</td>\n",
       "      <td>8.0</td>\n",
       "      <td>16.0</td>\n",
       "      <td>4.0</td>\n",
       "    </tr>\n",
       "    <tr>\n",
       "      <th>2</th>\n",
       "      <td>Employee Referral</td>\n",
       "      <td>0.0</td>\n",
       "      <td>0.0</td>\n",
       "      <td>12.0</td>\n",
       "      <td>9.0</td>\n",
       "      <td>10.0</td>\n",
       "    </tr>\n",
       "    <tr>\n",
       "      <th>3</th>\n",
       "      <td>Google Search</td>\n",
       "      <td>0.0</td>\n",
       "      <td>1.0</td>\n",
       "      <td>14.0</td>\n",
       "      <td>15.0</td>\n",
       "      <td>19.0</td>\n",
       "    </tr>\n",
       "    <tr>\n",
       "      <th>4</th>\n",
       "      <td>Indeed</td>\n",
       "      <td>1.0</td>\n",
       "      <td>3.0</td>\n",
       "      <td>29.0</td>\n",
       "      <td>21.0</td>\n",
       "      <td>33.0</td>\n",
       "    </tr>\n",
       "    <tr>\n",
       "      <th>5</th>\n",
       "      <td>LinkedIn</td>\n",
       "      <td>0.0</td>\n",
       "      <td>2.0</td>\n",
       "      <td>29.0</td>\n",
       "      <td>20.0</td>\n",
       "      <td>25.0</td>\n",
       "    </tr>\n",
       "    <tr>\n",
       "      <th>6</th>\n",
       "      <td>On-line Web application</td>\n",
       "      <td>0.0</td>\n",
       "      <td>0.0</td>\n",
       "      <td>0.0</td>\n",
       "      <td>0.0</td>\n",
       "      <td>1.0</td>\n",
       "    </tr>\n",
       "    <tr>\n",
       "      <th>7</th>\n",
       "      <td>Other</td>\n",
       "      <td>0.0</td>\n",
       "      <td>0.0</td>\n",
       "      <td>1.0</td>\n",
       "      <td>1.0</td>\n",
       "      <td>0.0</td>\n",
       "    </tr>\n",
       "    <tr>\n",
       "      <th>8</th>\n",
       "      <td>Website</td>\n",
       "      <td>1.0</td>\n",
       "      <td>1.0</td>\n",
       "      <td>5.0</td>\n",
       "      <td>4.0</td>\n",
       "      <td>2.0</td>\n",
       "    </tr>\n",
       "  </tbody>\n",
       "</table>\n",
       "</div>"
      ],
      "text/plain": [
       "EmpSatisfaction        RecruitmentSource    1    2     3     4     5\n",
       "0                          CareerBuilder  0.0  1.0  10.0   8.0   4.0\n",
       "1                     Diversity Job Fair  0.0  1.0   8.0  16.0   4.0\n",
       "2                      Employee Referral  0.0  0.0  12.0   9.0  10.0\n",
       "3                          Google Search  0.0  1.0  14.0  15.0  19.0\n",
       "4                                 Indeed  1.0  3.0  29.0  21.0  33.0\n",
       "5                               LinkedIn  0.0  2.0  29.0  20.0  25.0\n",
       "6                On-line Web application  0.0  0.0   0.0   0.0   1.0\n",
       "7                                  Other  0.0  0.0   1.0   1.0   0.0\n",
       "8                                Website  1.0  1.0   5.0   4.0   2.0"
      ]
     },
     "execution_count": 306,
     "metadata": {},
     "output_type": "execute_result"
    }
   ],
   "source": [
    "# Pivot the table so EmpSatisfaction levels become columns\n",
    "df_pivot = df_Satisfaction.pivot(index=\"RecruitmentSource\", columns=\"EmpSatisfaction\", values=\"Employee_Name\").fillna(0)\n",
    "\n",
    "# Reset index to make RecruitmentSource a column\n",
    "df_pivot = df_pivot.reset_index()\n",
    "\n",
    "# Display the table\n",
    "df_pivot"
   ]
  },
  {
   "cell_type": "code",
   "execution_count": 308,
   "id": "b1b69a04-bf0c-45ec-b487-b76c761f858d",
   "metadata": {},
   "outputs": [
    {
     "data": {
      "image/png": "[encoded data removed]",
      "text/plain": [
       "<Figure size 1000x600 with 1 Axes>"
      ]
     },
     "metadata": {},
     "output_type": "display_data"
    }
   ],
   "source": [
    "#Set the index to \"RecruitmentSource\" and drop the \"EmpSatisfaction\" column if needed\n",
    "df_pivot.set_index(\"RecruitmentSource\", inplace=True)\n",
    "\n",
    "# Plot a stacked bar chart\n",
    "df_pivot.plot(kind=\"bar\", stacked=True, figsize=(10, 6), colormap=\"coolwarm\", edgecolor=\"black\")\n",
    "\n",
    "# Add labels and title\n",
    "plt.xlabel(\"Recruitment Source\")\n",
    "plt.ylabel(\"Number of Employees\")\n",
    "plt.title(\"Employee Satisfaction Distribution by Recruitment Source\")\n",
    "plt.xticks(rotation=45, ha='right')  # Rotate x-axis labels for better readability\n",
    "\n",
    "# Show the legend and plot\n",
    "plt.legend(title=\"EmpSatisfaction\")\n",
    "plt.show()\n"
   ]
  },
  {
   "cell_type": "markdown",
   "id": "45a3c7e2-5e69-4805-a6ae-6321e6945357",
   "metadata": {},
   "source": [
    "### Insights :\n",
    "For 5 Star ratings :\n",
    "So we conclude that Indeed is the  recruitment source with highest count of 5 star ratings \n",
    "While website is the recruitment source with lowest count of 5 star ratings\n",
    "\n",
    "For 4 Star ratings :\n",
    "Again Indeed is ranks at the top\n",
    "While Other ranks the low and webiste ranks at the 2nd low\n",
    "\n",
    "For 3 Star Ratings:\n",
    "Again Indeed ranks at the top\n",
    "While Other ranks at the Lowest and website ranks at the 2nd low\n",
    "\n",
    "\n",
    "For 2 Star Ratings:\n",
    "Again Indeed ranks at the top\n",
    "Here Linked in Ranks at the lowest\n",
    "\n",
    "For 1 Star Ratings:\n",
    "Indeed and webistes are near about same here\n",
    "\n",
    "\n",
    "### Conclusion :\n",
    "We can say Indeed employees who applied through Indeed are likely to be most satisfied"
   ]
  },
  {
   "cell_type": "markdown",
   "id": "ed126cfe-e658-4d93-b6f0-083bf3fe9134",
   "metadata": {},
   "source": [
    "### 38:00 MultiVariate Analysis"
   ]
  },
  {
   "cell_type": "markdown",
   "id": "58000e46-2586-4d43-b0e3-5bf05cc6d5ee",
   "metadata": {},
   "source": [
    "### Determine the Outliers in Salary in each Department"
   ]
  },
  {
   "cell_type": "code",
   "execution_count": 317,
   "id": "d205e77c-daf9-4ae0-948a-caf0da737020",
   "metadata": {},
   "outputs": [
    {
     "data": {
      "text/plain": [
       "Index(['Employee_Name', 'EmpID', 'MarriedID', 'MaritalStatusID', 'GenderID',\n",
       "       'EmpStatusID', 'DeptID', 'PerfScoreID', 'FromDiversityJobFairID',\n",
       "       'Salary', 'Termd', 'PositionID', 'Position', 'State', 'Zip', 'DOB',\n",
       "       'Sex', 'MaritalDesc', 'CitizenDesc', 'HispanicLatino', 'RaceDesc',\n",
       "       'DateofHire', 'DateofTermination', 'TermReason', 'EmploymentStatus',\n",
       "       'Department', 'ManagerName', 'ManagerID', 'RecruitmentSource',\n",
       "       'PerformanceScore', 'EngagementSurvey', 'EmpSatisfaction',\n",
       "       'SpecialProjectsCount', 'LastPerformanceReview_Date', 'DaysLateLast30',\n",
       "       'Absences'],\n",
       "      dtype='object')"
      ]
     },
     "execution_count": 317,
     "metadata": {},
     "output_type": "execute_result"
    }
   ],
   "source": [
    "df.columns"
   ]
  },
  {
   "cell_type": "code",
   "execution_count": 327,
   "id": "08dc87eb-1713-40a3-bd33-b396c8af79ba",
   "metadata": {},
   "outputs": [
    {
     "data": {
      "text/html": [
       "<div>\n",
       "<style scoped>\n",
       "    .dataframe tbody tr th:only-of-type {\n",
       "        vertical-align: middle;\n",
       "    }\n",
       "\n",
       "    .dataframe tbody tr th {\n",
       "        vertical-align: top;\n",
       "    }\n",
       "\n",
       "    .dataframe thead th {\n",
       "        text-align: right;\n",
       "    }\n",
       "</style>\n",
       "<table border=\"1\" class=\"dataframe\">\n",
       "  <thead>\n",
       "    <tr style=\"text-align: right;\">\n",
       "      <th></th>\n",
       "      <th>Department</th>\n",
       "      <th>Employee_Name</th>\n",
       "      <th>Salary</th>\n",
       "    </tr>\n",
       "  </thead>\n",
       "  <tbody>\n",
       "    <tr>\n",
       "      <th>0</th>\n",
       "      <td>Admin Offices</td>\n",
       "      <td>Boutwell, Bonalyn</td>\n",
       "      <td>106367</td>\n",
       "    </tr>\n",
       "    <tr>\n",
       "      <th>1</th>\n",
       "      <td>Admin Offices</td>\n",
       "      <td>Brown, Mia</td>\n",
       "      <td>63000</td>\n",
       "    </tr>\n",
       "    <tr>\n",
       "      <th>2</th>\n",
       "      <td>Admin Offices</td>\n",
       "      <td>Foster-Baker, Amy</td>\n",
       "      <td>99351</td>\n",
       "    </tr>\n",
       "    <tr>\n",
       "      <th>3</th>\n",
       "      <td>Admin Offices</td>\n",
       "      <td>Howard, Estelle</td>\n",
       "      <td>49920</td>\n",
       "    </tr>\n",
       "    <tr>\n",
       "      <th>4</th>\n",
       "      <td>Admin Offices</td>\n",
       "      <td>LaRotonda, William</td>\n",
       "      <td>64520</td>\n",
       "    </tr>\n",
       "    <tr>\n",
       "      <th>...</th>\n",
       "      <td>...</td>\n",
       "      <td>...</td>\n",
       "      <td>...</td>\n",
       "    </tr>\n",
       "    <tr>\n",
       "      <th>306</th>\n",
       "      <td>Software Engineering</td>\n",
       "      <td>Patronick, Lucas</td>\n",
       "      <td>108987</td>\n",
       "    </tr>\n",
       "    <tr>\n",
       "      <th>307</th>\n",
       "      <td>Software Engineering</td>\n",
       "      <td>Quinn, Sean</td>\n",
       "      <td>83363</td>\n",
       "    </tr>\n",
       "    <tr>\n",
       "      <th>308</th>\n",
       "      <td>Software Engineering</td>\n",
       "      <td>Saada, Adell</td>\n",
       "      <td>86214</td>\n",
       "    </tr>\n",
       "    <tr>\n",
       "      <th>309</th>\n",
       "      <td>Software Engineering</td>\n",
       "      <td>Szabo, Andrew</td>\n",
       "      <td>92989</td>\n",
       "    </tr>\n",
       "    <tr>\n",
       "      <th>310</th>\n",
       "      <td>Software Engineering</td>\n",
       "      <td>True, Edward</td>\n",
       "      <td>100416</td>\n",
       "    </tr>\n",
       "  </tbody>\n",
       "</table>\n",
       "<p>311 rows × 3 columns</p>\n",
       "</div>"
      ],
      "text/plain": [
       "               Department         Employee_Name  Salary\n",
       "0           Admin Offices     Boutwell, Bonalyn  106367\n",
       "1           Admin Offices            Brown, Mia   63000\n",
       "2           Admin Offices     Foster-Baker, Amy   99351\n",
       "3           Admin Offices       Howard, Estelle   49920\n",
       "4           Admin Offices  LaRotonda, William     64520\n",
       "..                    ...                   ...     ...\n",
       "306  Software Engineering      Patronick, Lucas  108987\n",
       "307  Software Engineering           Quinn, Sean   83363\n",
       "308  Software Engineering          Saada, Adell   86214\n",
       "309  Software Engineering         Szabo, Andrew   92989\n",
       "310  Software Engineering          True, Edward  100416\n",
       "\n",
       "[311 rows x 3 columns]"
      ]
     },
     "execution_count": 327,
     "metadata": {},
     "output_type": "execute_result"
    }
   ],
   "source": [
    "df_Salary_extreme = df.groupby([\"Department\",\"Employee_Name\"])[\"Salary\"].sum()\n",
    "df_Salary_extreme = df_Salary_extreme.reset_index()\n",
    "df_Salary_extreme"
   ]
  },
  {
   "cell_type": "code",
   "execution_count": 329,
   "id": "08b7c846-b6ae-401c-aeb4-a11fb718f037",
   "metadata": {},
   "outputs": [
    {
     "name": "stderr",
     "output_type": "stream",
     "text": [
      "C:\\Users\\bhosa\\AppData\\Local\\Temp\\ipykernel_12032\\2956438444.py:3: FutureWarning: \n",
      "\n",
      "Passing `palette` without assigning `hue` is deprecated and will be removed in v0.14.0. Assign the `x` variable to `hue` and set `legend=False` for the same effect.\n",
      "\n",
      "  sns.boxplot(x=\"Department\", y=\"Salary\", data=df_Salary_extreme, palette=\"coolwarm\")\n"
     ]
    },
    {
     "data": {
      "image/png": "[encoded data removed]",
      "text/plain": [
       "<Figure size 1000x600 with 1 Axes>"
      ]
     },
     "metadata": {},
     "output_type": "display_data"
    }
   ],
   "source": [
    "# Plot the box plot\n",
    "plt.figure(figsize=(10, 6))\n",
    "sns.boxplot(x=\"Department\", y=\"Salary\", data=df_Salary_extreme, palette=\"coolwarm\")\n",
    "\n",
    "# Add labels and title\n",
    "plt.xlabel(\"Department\")\n",
    "plt.ylabel(\"Salary\")\n",
    "plt.title(\"Salary Distribution Across Departments\")\n",
    "\n",
    "# Rotate x-axis labels for better readability\n",
    "plt.xticks(rotation=45, ha=\"right\")\n",
    "\n",
    "# Show the plot\n",
    "plt.show()\n"
   ]
  },
  {
   "cell_type": "markdown",
   "id": "f67d8e5f-ca3e-4c5e-91c1-848ccdfaf624",
   "metadata": {},
   "source": [
    "### Insights :\n",
    "- Executives are paaid the highest\n",
    "- Least salary is in the production"
   ]
  },
  {
   "cell_type": "markdown",
   "id": "67e09288-ef65-4060-b0af-d7ed27b12e72",
   "metadata": {},
   "source": [
    "### 42:55 Analyse the EngagementSurvey with different Positions"
   ]
  },
  {
   "cell_type": "code",
   "execution_count": 339,
   "id": "07c14072-5e4a-4783-afcf-ec1af8b10ab0",
   "metadata": {},
   "outputs": [
    {
     "data": {
      "text/plain": [
       "array(['Production Technician I', 'Sr. DBA', 'Production Technician II',\n",
       "       'Software Engineer', 'IT Support', 'Data Analyst',\n",
       "       'Database Administrator', 'Enterprise Architect', 'Sr. Accountant',\n",
       "       'Production Manager', 'Accountant I', 'Area Sales Manager',\n",
       "       'Software Engineering Manager', 'BI Director',\n",
       "       'Director of Operations', 'Sr. Network Engineer', 'Sales Manager',\n",
       "       'BI Developer', 'IT Manager - Support', 'Network Engineer',\n",
       "       'IT Director', 'Director of Sales', 'Administrative Assistant',\n",
       "       'President & CEO', 'Senior BI Developer',\n",
       "       'Shared Services Manager', 'IT Manager - Infra',\n",
       "       'Principal Data Architect', 'Data Architect', 'IT Manager - DB',\n",
       "       'Data Analyst ', 'CIO'], dtype=object)"
      ]
     },
     "execution_count": 339,
     "metadata": {},
     "output_type": "execute_result"
    }
   ],
   "source": [
    "df[\"Position\"].unique()"
   ]
  },
  {
   "cell_type": "markdown",
   "id": "f9f6f1c8-dfd7-468e-975e-c05e1cac80c1",
   "metadata": {},
   "source": [
    "### Determine the top 10 paid positions in the organization"
   ]
  },
  {
   "cell_type": "code",
   "execution_count": 410,
   "id": "d0905839-9d94-417d-8565-61a1bcfbb799",
   "metadata": {},
   "outputs": [
    {
     "data": {
      "text/html": [
       "<div>\n",
       "<style scoped>\n",
       "    .dataframe tbody tr th:only-of-type {\n",
       "        vertical-align: middle;\n",
       "    }\n",
       "\n",
       "    .dataframe tbody tr th {\n",
       "        vertical-align: top;\n",
       "    }\n",
       "\n",
       "    .dataframe thead th {\n",
       "        text-align: right;\n",
       "    }\n",
       "</style>\n",
       "<table border=\"1\" class=\"dataframe\">\n",
       "  <thead>\n",
       "    <tr style=\"text-align: right;\">\n",
       "      <th></th>\n",
       "      <th>Position</th>\n",
       "      <th>Employee_Name</th>\n",
       "      <th>EngagementSurvey</th>\n",
       "      <th>Salary</th>\n",
       "    </tr>\n",
       "  </thead>\n",
       "  <tbody>\n",
       "    <tr>\n",
       "      <th>74</th>\n",
       "      <td>President &amp; CEO</td>\n",
       "      <td>King, Janet</td>\n",
       "      <td>4.83</td>\n",
       "      <td>250000</td>\n",
       "    </tr>\n",
       "    <tr>\n",
       "      <th>38</th>\n",
       "      <td>CIO</td>\n",
       "      <td>Zamora, Jennifer</td>\n",
       "      <td>4.60</td>\n",
       "      <td>220450</td>\n",
       "    </tr>\n",
       "    <tr>\n",
       "      <th>54</th>\n",
       "      <td>Director of Sales</td>\n",
       "      <td>Houlihan, Debra</td>\n",
       "      <td>4.50</td>\n",
       "      <td>180000</td>\n",
       "    </tr>\n",
       "    <tr>\n",
       "      <th>56</th>\n",
       "      <td>IT Director</td>\n",
       "      <td>Foss, Jason</td>\n",
       "      <td>5.00</td>\n",
       "      <td>178000</td>\n",
       "    </tr>\n",
       "    <tr>\n",
       "      <th>53</th>\n",
       "      <td>Director of Operations</td>\n",
       "      <td>Corleone, Vito</td>\n",
       "      <td>3.70</td>\n",
       "      <td>170500</td>\n",
       "    </tr>\n",
       "    <tr>\n",
       "      <th>59</th>\n",
       "      <td>IT Manager - Infra</td>\n",
       "      <td>Monroe, Peter</td>\n",
       "      <td>2.39</td>\n",
       "      <td>157000</td>\n",
       "    </tr>\n",
       "    <tr>\n",
       "      <th>47</th>\n",
       "      <td>Data Architect</td>\n",
       "      <td>Roper, Katie</td>\n",
       "      <td>4.94</td>\n",
       "      <td>150290</td>\n",
       "    </tr>\n",
       "    <tr>\n",
       "      <th>58</th>\n",
       "      <td>IT Manager - DB</td>\n",
       "      <td>Ruiz, Ricardo</td>\n",
       "      <td>4.30</td>\n",
       "      <td>148999</td>\n",
       "    </tr>\n",
       "    <tr>\n",
       "      <th>57</th>\n",
       "      <td>IT Manager - DB</td>\n",
       "      <td>Roup,Simon</td>\n",
       "      <td>3.60</td>\n",
       "      <td>140920</td>\n",
       "    </tr>\n",
       "    <tr>\n",
       "      <th>60</th>\n",
       "      <td>IT Manager - Support</td>\n",
       "      <td>Dougall, Eric</td>\n",
       "      <td>4.30</td>\n",
       "      <td>138888</td>\n",
       "    </tr>\n",
       "  </tbody>\n",
       "</table>\n",
       "</div>"
      ],
      "text/plain": [
       "                  Position     Employee_Name  EngagementSurvey  Salary\n",
       "74         President & CEO       King, Janet              4.83  250000\n",
       "38                     CIO  Zamora, Jennifer              4.60  220450\n",
       "54       Director of Sales   Houlihan, Debra              4.50  180000\n",
       "56             IT Director       Foss, Jason              5.00  178000\n",
       "53  Director of Operations    Corleone, Vito              3.70  170500\n",
       "59      IT Manager - Infra     Monroe, Peter              2.39  157000\n",
       "47          Data Architect      Roper, Katie              4.94  150290\n",
       "58         IT Manager - DB     Ruiz, Ricardo              4.30  148999\n",
       "57         IT Manager - DB        Roup,Simon              3.60  140920\n",
       "60    IT Manager - Support     Dougall, Eric              4.30  138888"
      ]
     },
     "execution_count": 410,
     "metadata": {},
     "output_type": "execute_result"
    }
   ],
   "source": [
    "EarningOfPositions = df.groupby([\"Position\",\"Employee_Name\",\"EngagementSurvey\"])[\"Salary\"].sum()\n",
    "EarningOfPositions = EarningOfPositions.reset_index().sort_values('Salary',ascending = False)\n",
    "Top10HighPayingPositions = EarningOfPositions.head(10) # Top 10 Higest earning positions \n",
    "Top10LeastPayingPositions = EarningOfPositions.tail(10) # Top 10 Least earning positions"
   ]
  },
  {
   "cell_type": "markdown",
   "id": "8fe8ae2c-742b-4f66-b018-fa83e30a8e8d",
   "metadata": {},
   "source": [
    "### Determine the EngagementSurvey of Top 10 High paying positions "
   ]
  },
  {
   "cell_type": "code",
   "execution_count": 417,
   "id": "df731cf5-e773-4250-86a8-386fb7a95a6d",
   "metadata": {},
   "outputs": [
    {
     "data": {
      "text/html": [
       "<div>\n",
       "<style scoped>\n",
       "    .dataframe tbody tr th:only-of-type {\n",
       "        vertical-align: middle;\n",
       "    }\n",
       "\n",
       "    .dataframe tbody tr th {\n",
       "        vertical-align: top;\n",
       "    }\n",
       "\n",
       "    .dataframe thead th {\n",
       "        text-align: right;\n",
       "    }\n",
       "</style>\n",
       "<table border=\"1\" class=\"dataframe\">\n",
       "  <thead>\n",
       "    <tr style=\"text-align: right;\">\n",
       "      <th></th>\n",
       "      <th>Position</th>\n",
       "      <th>Employee_Name</th>\n",
       "      <th>EngagementSurvey</th>\n",
       "      <th>Salary</th>\n",
       "    </tr>\n",
       "  </thead>\n",
       "  <tbody>\n",
       "    <tr>\n",
       "      <th>74</th>\n",
       "      <td>President &amp; CEO</td>\n",
       "      <td>King, Janet</td>\n",
       "      <td>4.83</td>\n",
       "      <td>250000</td>\n",
       "    </tr>\n",
       "    <tr>\n",
       "      <th>38</th>\n",
       "      <td>CIO</td>\n",
       "      <td>Zamora, Jennifer</td>\n",
       "      <td>4.60</td>\n",
       "      <td>220450</td>\n",
       "    </tr>\n",
       "    <tr>\n",
       "      <th>54</th>\n",
       "      <td>Director of Sales</td>\n",
       "      <td>Houlihan, Debra</td>\n",
       "      <td>4.50</td>\n",
       "      <td>180000</td>\n",
       "    </tr>\n",
       "    <tr>\n",
       "      <th>56</th>\n",
       "      <td>IT Director</td>\n",
       "      <td>Foss, Jason</td>\n",
       "      <td>5.00</td>\n",
       "      <td>178000</td>\n",
       "    </tr>\n",
       "    <tr>\n",
       "      <th>53</th>\n",
       "      <td>Director of Operations</td>\n",
       "      <td>Corleone, Vito</td>\n",
       "      <td>3.70</td>\n",
       "      <td>170500</td>\n",
       "    </tr>\n",
       "    <tr>\n",
       "      <th>59</th>\n",
       "      <td>IT Manager - Infra</td>\n",
       "      <td>Monroe, Peter</td>\n",
       "      <td>2.39</td>\n",
       "      <td>157000</td>\n",
       "    </tr>\n",
       "    <tr>\n",
       "      <th>47</th>\n",
       "      <td>Data Architect</td>\n",
       "      <td>Roper, Katie</td>\n",
       "      <td>4.94</td>\n",
       "      <td>150290</td>\n",
       "    </tr>\n",
       "    <tr>\n",
       "      <th>58</th>\n",
       "      <td>IT Manager - DB</td>\n",
       "      <td>Ruiz, Ricardo</td>\n",
       "      <td>4.30</td>\n",
       "      <td>148999</td>\n",
       "    </tr>\n",
       "    <tr>\n",
       "      <th>57</th>\n",
       "      <td>IT Manager - DB</td>\n",
       "      <td>Roup,Simon</td>\n",
       "      <td>3.60</td>\n",
       "      <td>140920</td>\n",
       "    </tr>\n",
       "    <tr>\n",
       "      <th>60</th>\n",
       "      <td>IT Manager - Support</td>\n",
       "      <td>Dougall, Eric</td>\n",
       "      <td>4.30</td>\n",
       "      <td>138888</td>\n",
       "    </tr>\n",
       "  </tbody>\n",
       "</table>\n",
       "</div>"
      ],
      "text/plain": [
       "                  Position     Employee_Name  EngagementSurvey  Salary\n",
       "74         President & CEO       King, Janet              4.83  250000\n",
       "38                     CIO  Zamora, Jennifer              4.60  220450\n",
       "54       Director of Sales   Houlihan, Debra              4.50  180000\n",
       "56             IT Director       Foss, Jason              5.00  178000\n",
       "53  Director of Operations    Corleone, Vito              3.70  170500\n",
       "59      IT Manager - Infra     Monroe, Peter              2.39  157000\n",
       "47          Data Architect      Roper, Katie              4.94  150290\n",
       "58         IT Manager - DB     Ruiz, Ricardo              4.30  148999\n",
       "57         IT Manager - DB        Roup,Simon              3.60  140920\n",
       "60    IT Manager - Support     Dougall, Eric              4.30  138888"
      ]
     },
     "execution_count": 417,
     "metadata": {},
     "output_type": "execute_result"
    }
   ],
   "source": [
    "Top10HighPayingPositions"
   ]
  },
  {
   "cell_type": "markdown",
   "id": "37f7eec1-b189-46fa-b8c6-b038e3abb630",
   "metadata": {},
   "source": [
    "### Determine the EngagementSurvey of Top 10 Low paying positions "
   ]
  },
  {
   "cell_type": "code",
   "execution_count": 420,
   "id": "6604a6e2-3226-4030-9997-4a738232add3",
   "metadata": {},
   "outputs": [
    {
     "data": {
      "text/html": [
       "<div>\n",
       "<style scoped>\n",
       "    .dataframe tbody tr th:only-of-type {\n",
       "        vertical-align: middle;\n",
       "    }\n",
       "\n",
       "    .dataframe tbody tr th {\n",
       "        vertical-align: top;\n",
       "    }\n",
       "\n",
       "    .dataframe thead th {\n",
       "        text-align: right;\n",
       "    }\n",
       "</style>\n",
       "<table border=\"1\" class=\"dataframe\">\n",
       "  <thead>\n",
       "    <tr style=\"text-align: right;\">\n",
       "      <th></th>\n",
       "      <th>Position</th>\n",
       "      <th>Employee_Name</th>\n",
       "      <th>EngagementSurvey</th>\n",
       "      <th>Salary</th>\n",
       "    </tr>\n",
       "  </thead>\n",
       "  <tbody>\n",
       "    <tr>\n",
       "      <th>191</th>\n",
       "      <td>Production Technician I</td>\n",
       "      <td>Purinton, Janine</td>\n",
       "      <td>4.50</td>\n",
       "      <td>46430</td>\n",
       "    </tr>\n",
       "    <tr>\n",
       "      <th>201</th>\n",
       "      <td>Production Technician I</td>\n",
       "      <td>Sadki, Nore</td>\n",
       "      <td>4.60</td>\n",
       "      <td>46428</td>\n",
       "    </tr>\n",
       "    <tr>\n",
       "      <th>125</th>\n",
       "      <td>Production Technician I</td>\n",
       "      <td>Dobrin, Denisa  S</td>\n",
       "      <td>3.40</td>\n",
       "      <td>46335</td>\n",
       "    </tr>\n",
       "    <tr>\n",
       "      <th>162</th>\n",
       "      <td>Production Technician I</td>\n",
       "      <td>Langton, Enrico</td>\n",
       "      <td>5.00</td>\n",
       "      <td>46120</td>\n",
       "    </tr>\n",
       "    <tr>\n",
       "      <th>186</th>\n",
       "      <td>Production Technician I</td>\n",
       "      <td>Perry, Shakira</td>\n",
       "      <td>3.45</td>\n",
       "      <td>45998</td>\n",
       "    </tr>\n",
       "    <tr>\n",
       "      <th>159</th>\n",
       "      <td>Production Technician I</td>\n",
       "      <td>Kirill, Alexandra</td>\n",
       "      <td>3.49</td>\n",
       "      <td>45433</td>\n",
       "    </tr>\n",
       "    <tr>\n",
       "      <th>169</th>\n",
       "      <td>Production Technician I</td>\n",
       "      <td>Mahoney, Lauren</td>\n",
       "      <td>4.60</td>\n",
       "      <td>45395</td>\n",
       "    </tr>\n",
       "    <tr>\n",
       "      <th>193</th>\n",
       "      <td>Production Technician I</td>\n",
       "      <td>Rhoads, Thomas</td>\n",
       "      <td>5.00</td>\n",
       "      <td>45115</td>\n",
       "    </tr>\n",
       "    <tr>\n",
       "      <th>153</th>\n",
       "      <td>Production Technician I</td>\n",
       "      <td>Jacobi, Hannah</td>\n",
       "      <td>4.30</td>\n",
       "      <td>45069</td>\n",
       "    </tr>\n",
       "    <tr>\n",
       "      <th>226</th>\n",
       "      <td>Production Technician I</td>\n",
       "      <td>Zima, Colleen</td>\n",
       "      <td>4.50</td>\n",
       "      <td>45046</td>\n",
       "    </tr>\n",
       "  </tbody>\n",
       "</table>\n",
       "</div>"
      ],
      "text/plain": [
       "                    Position        Employee_Name  EngagementSurvey  Salary\n",
       "191  Production Technician I     Purinton, Janine              4.50   46430\n",
       "201  Production Technician I        Sadki, Nore                4.60   46428\n",
       "125  Production Technician I    Dobrin, Denisa  S              3.40   46335\n",
       "162  Production Technician I      Langton, Enrico              5.00   46120\n",
       "186  Production Technician I       Perry, Shakira              3.45   45998\n",
       "159  Production Technician I  Kirill, Alexandra                3.49   45433\n",
       "169  Production Technician I    Mahoney, Lauren                4.60   45395\n",
       "193  Production Technician I       Rhoads, Thomas              5.00   45115\n",
       "153  Production Technician I     Jacobi, Hannah                4.30   45069\n",
       "226  Production Technician I        Zima, Colleen              4.50   45046"
      ]
     },
     "execution_count": 420,
     "metadata": {},
     "output_type": "execute_result"
    }
   ],
   "source": [
    "Top10LeastPayingPositions"
   ]
  },
  {
   "cell_type": "markdown",
   "id": "d895253b-0b0a-4788-a4a5-2c80d5979cb6",
   "metadata": {},
   "source": [
    "### 46:20 Determine the marital Status by Gender"
   ]
  },
  {
   "cell_type": "code",
   "execution_count": 441,
   "id": "d2a8657b-f384-438c-8615-43af2f7c02bd",
   "metadata": {},
   "outputs": [
    {
     "data": {
      "text/html": [
       "<div>\n",
       "<style scoped>\n",
       "    .dataframe tbody tr th:only-of-type {\n",
       "        vertical-align: middle;\n",
       "    }\n",
       "\n",
       "    .dataframe tbody tr th {\n",
       "        vertical-align: top;\n",
       "    }\n",
       "\n",
       "    .dataframe thead th {\n",
       "        text-align: right;\n",
       "    }\n",
       "</style>\n",
       "<table border=\"1\" class=\"dataframe\">\n",
       "  <thead>\n",
       "    <tr style=\"text-align: right;\">\n",
       "      <th></th>\n",
       "      <th>MaritalDesc</th>\n",
       "      <th>Sex</th>\n",
       "      <th>Employee_Name</th>\n",
       "    </tr>\n",
       "  </thead>\n",
       "  <tbody>\n",
       "    <tr>\n",
       "      <th>0</th>\n",
       "      <td>Divorced</td>\n",
       "      <td>F</td>\n",
       "      <td>16</td>\n",
       "    </tr>\n",
       "    <tr>\n",
       "      <th>1</th>\n",
       "      <td>Divorced</td>\n",
       "      <td>M</td>\n",
       "      <td>14</td>\n",
       "    </tr>\n",
       "    <tr>\n",
       "      <th>2</th>\n",
       "      <td>Married</td>\n",
       "      <td>F</td>\n",
       "      <td>72</td>\n",
       "    </tr>\n",
       "    <tr>\n",
       "      <th>3</th>\n",
       "      <td>Married</td>\n",
       "      <td>M</td>\n",
       "      <td>52</td>\n",
       "    </tr>\n",
       "    <tr>\n",
       "      <th>4</th>\n",
       "      <td>Separated</td>\n",
       "      <td>F</td>\n",
       "      <td>9</td>\n",
       "    </tr>\n",
       "    <tr>\n",
       "      <th>5</th>\n",
       "      <td>Separated</td>\n",
       "      <td>M</td>\n",
       "      <td>3</td>\n",
       "    </tr>\n",
       "    <tr>\n",
       "      <th>6</th>\n",
       "      <td>Single</td>\n",
       "      <td>F</td>\n",
       "      <td>75</td>\n",
       "    </tr>\n",
       "    <tr>\n",
       "      <th>7</th>\n",
       "      <td>Single</td>\n",
       "      <td>M</td>\n",
       "      <td>62</td>\n",
       "    </tr>\n",
       "    <tr>\n",
       "      <th>8</th>\n",
       "      <td>Widowed</td>\n",
       "      <td>F</td>\n",
       "      <td>4</td>\n",
       "    </tr>\n",
       "    <tr>\n",
       "      <th>9</th>\n",
       "      <td>Widowed</td>\n",
       "      <td>M</td>\n",
       "      <td>4</td>\n",
       "    </tr>\n",
       "  </tbody>\n",
       "</table>\n",
       "</div>"
      ],
      "text/plain": [
       "  MaritalDesc Sex  Employee_Name\n",
       "0    Divorced   F             16\n",
       "1    Divorced  M              14\n",
       "2     Married   F             72\n",
       "3     Married  M              52\n",
       "4   Separated   F              9\n",
       "5   Separated  M               3\n",
       "6      Single   F             75\n",
       "7      Single  M              62\n",
       "8     Widowed   F              4\n",
       "9     Widowed  M               4"
      ]
     },
     "execution_count": 441,
     "metadata": {},
     "output_type": "execute_result"
    }
   ],
   "source": [
    "df_MaritalStatus_Gender = df.groupby([\"MaritalDesc\",\"Sex\"])[\"Employee_Name\"].count().reset_index()\n",
    "df_MaritalStatus_Gender"
   ]
  },
  {
   "cell_type": "code",
   "execution_count": 429,
   "id": "8c08d432-53f0-477b-88ab-f975912559da",
   "metadata": {},
   "outputs": [
    {
     "data": {
      "text/plain": [
       "Index(['Employee_Name', 'EmpID', 'MarriedID', 'MaritalStatusID', 'GenderID',\n",
       "       'EmpStatusID', 'DeptID', 'PerfScoreID', 'FromDiversityJobFairID',\n",
       "       'Salary', 'Termd', 'PositionID', 'Position', 'State', 'Zip', 'DOB',\n",
       "       'Sex', 'MaritalDesc', 'CitizenDesc', 'HispanicLatino', 'RaceDesc',\n",
       "       'DateofHire', 'DateofTermination', 'TermReason', 'EmploymentStatus',\n",
       "       'Department', 'ManagerName', 'ManagerID', 'RecruitmentSource',\n",
       "       'PerformanceScore', 'EngagementSurvey', 'EmpSatisfaction',\n",
       "       'SpecialProjectsCount', 'LastPerformanceReview_Date', 'DaysLateLast30',\n",
       "       'Absences'],\n",
       "      dtype='object')"
      ]
     },
     "execution_count": 429,
     "metadata": {},
     "output_type": "execute_result"
    }
   ],
   "source": [
    "df.columns"
   ]
  },
  {
   "cell_type": "code",
   "execution_count": 447,
   "id": "1f067604-e2bb-4c21-b94d-ef17f5fce3bb",
   "metadata": {},
   "outputs": [],
   "source": [
    "# Pivoting the data to make 'Sex' as columns and 'Employee_Name' count as values\n",
    "df_MaritalStatus_Gender_pivot = df_MaritalStatus_Gender.pivot(index=\"MaritalDesc\", columns=\"Sex\", values=\"Employee_Name\")\n",
    "# Resetting index to make it a regular column (optional)\n",
    "df_MaritalStatus_Gender_pivot = df_MaritalStatus_Gender_pivot.reset_index()"
   ]
  },
  {
   "cell_type": "code",
   "execution_count": 449,
   "id": "f9c6979c-7c97-4a02-990a-89e86a22f3f1",
   "metadata": {},
   "outputs": [
    {
     "data": {
      "text/html": [
       "<div>\n",
       "<style scoped>\n",
       "    .dataframe tbody tr th:only-of-type {\n",
       "        vertical-align: middle;\n",
       "    }\n",
       "\n",
       "    .dataframe tbody tr th {\n",
       "        vertical-align: top;\n",
       "    }\n",
       "\n",
       "    .dataframe thead th {\n",
       "        text-align: right;\n",
       "    }\n",
       "</style>\n",
       "<table border=\"1\" class=\"dataframe\">\n",
       "  <thead>\n",
       "    <tr style=\"text-align: right;\">\n",
       "      <th>Sex</th>\n",
       "      <th>MaritalDesc</th>\n",
       "      <th>F</th>\n",
       "      <th>M</th>\n",
       "    </tr>\n",
       "  </thead>\n",
       "  <tbody>\n",
       "    <tr>\n",
       "      <th>0</th>\n",
       "      <td>Divorced</td>\n",
       "      <td>16</td>\n",
       "      <td>14</td>\n",
       "    </tr>\n",
       "    <tr>\n",
       "      <th>1</th>\n",
       "      <td>Married</td>\n",
       "      <td>72</td>\n",
       "      <td>52</td>\n",
       "    </tr>\n",
       "    <tr>\n",
       "      <th>2</th>\n",
       "      <td>Separated</td>\n",
       "      <td>9</td>\n",
       "      <td>3</td>\n",
       "    </tr>\n",
       "    <tr>\n",
       "      <th>3</th>\n",
       "      <td>Single</td>\n",
       "      <td>75</td>\n",
       "      <td>62</td>\n",
       "    </tr>\n",
       "    <tr>\n",
       "      <th>4</th>\n",
       "      <td>Widowed</td>\n",
       "      <td>4</td>\n",
       "      <td>4</td>\n",
       "    </tr>\n",
       "  </tbody>\n",
       "</table>\n",
       "</div>"
      ],
      "text/plain": [
       "Sex MaritalDesc   F  M \n",
       "0      Divorced  16  14\n",
       "1       Married  72  52\n",
       "2     Separated   9   3\n",
       "3        Single  75  62\n",
       "4       Widowed   4   4"
      ]
     },
     "execution_count": 449,
     "metadata": {},
     "output_type": "execute_result"
    }
   ],
   "source": [
    "df_MaritalStatus_Gender_pivot"
   ]
  },
  {
   "cell_type": "code",
   "execution_count": 459,
   "id": "6d8708a0-4894-4287-99ca-3bd95901e272",
   "metadata": {},
   "outputs": [
    {
     "data": {
      "image/png": "[encoded data removed]",
      "text/plain": [
       "<Figure size 800x800 with 1 Axes>"
      ]
     },
     "metadata": {},
     "output_type": "display_data"
    }
   ],
   "source": [
    "# Create a new column to represent the color based on 'Sex'\n",
    "colors = []\n",
    "for index, row in df_MaritalStatus_Gender.iterrows():\n",
    "    if row['Sex'] == 'F':\n",
    "        colors.append('lightpink')  # Pastel pink for female\n",
    "    else:\n",
    "        colors.append('lightblue')  # Pastel blue for male\n",
    "\n",
    "# Plotting the combined pie chart without borders\n",
    "plt.figure(figsize=(8, 8))\n",
    "\n",
    "# Pie chart for marital status distribution by gender\n",
    "plt.pie(df_MaritalStatus_Gender['Employee_Name'], labels=df_MaritalStatus_Gender['MaritalDesc'],\n",
    "        autopct='%1.1f%%', colors=colors, startangle=140)\n",
    "\n",
    "# Adding a legend for Male and Female\n",
    "plt.legend(['Female (Pink)', 'Male (Blue)'], loc='upper right', fontsize=12)\n",
    "\n",
    "# Title for the chart\n",
    "plt.title('Marital Status Distribution by Gender')\n",
    "\n",
    "# Show the pie chart\n",
    "plt.show()\n"
   ]
  },
  {
   "cell_type": "markdown",
   "id": "5485226b-c4cb-471f-9bf5-d8fce01b21ba",
   "metadata": {},
   "source": [
    "### 48.02 What is the average engagement score for employees in each department"
   ]
  },
  {
   "cell_type": "code",
   "execution_count": 462,
   "id": "a827fea9-6669-4d1f-88f3-00bb8ceca7bf",
   "metadata": {},
   "outputs": [
    {
     "data": {
      "text/plain": [
       "Index(['Employee_Name', 'EmpID', 'MarriedID', 'MaritalStatusID', 'GenderID',\n",
       "       'EmpStatusID', 'DeptID', 'PerfScoreID', 'FromDiversityJobFairID',\n",
       "       'Salary', 'Termd', 'PositionID', 'Position', 'State', 'Zip', 'DOB',\n",
       "       'Sex', 'MaritalDesc', 'CitizenDesc', 'HispanicLatino', 'RaceDesc',\n",
       "       'DateofHire', 'DateofTermination', 'TermReason', 'EmploymentStatus',\n",
       "       'Department', 'ManagerName', 'ManagerID', 'RecruitmentSource',\n",
       "       'PerformanceScore', 'EngagementSurvey', 'EmpSatisfaction',\n",
       "       'SpecialProjectsCount', 'LastPerformanceReview_Date', 'DaysLateLast30',\n",
       "       'Absences'],\n",
       "      dtype='object')"
      ]
     },
     "execution_count": 462,
     "metadata": {},
     "output_type": "execute_result"
    }
   ],
   "source": [
    "df.columns"
   ]
  },
  {
   "cell_type": "code",
   "execution_count": 470,
   "id": "4631ee40-038e-4f91-b947-a694baac6ff8",
   "metadata": {},
   "outputs": [
    {
     "data": {
      "text/html": [
       "<div>\n",
       "<style scoped>\n",
       "    .dataframe tbody tr th:only-of-type {\n",
       "        vertical-align: middle;\n",
       "    }\n",
       "\n",
       "    .dataframe tbody tr th {\n",
       "        vertical-align: top;\n",
       "    }\n",
       "\n",
       "    .dataframe thead th {\n",
       "        text-align: right;\n",
       "    }\n",
       "</style>\n",
       "<table border=\"1\" class=\"dataframe\">\n",
       "  <thead>\n",
       "    <tr style=\"text-align: right;\">\n",
       "      <th></th>\n",
       "      <th>Department</th>\n",
       "      <th>Employee_Name</th>\n",
       "      <th>EngagementSurvey</th>\n",
       "    </tr>\n",
       "  </thead>\n",
       "  <tbody>\n",
       "    <tr>\n",
       "      <th>0</th>\n",
       "      <td>Admin Offices</td>\n",
       "      <td>Boutwell, Bonalyn</td>\n",
       "      <td>5.00</td>\n",
       "    </tr>\n",
       "    <tr>\n",
       "      <th>1</th>\n",
       "      <td>Admin Offices</td>\n",
       "      <td>Brown, Mia</td>\n",
       "      <td>4.50</td>\n",
       "    </tr>\n",
       "    <tr>\n",
       "      <th>2</th>\n",
       "      <td>Admin Offices</td>\n",
       "      <td>Foster-Baker, Amy</td>\n",
       "      <td>5.00</td>\n",
       "    </tr>\n",
       "    <tr>\n",
       "      <th>3</th>\n",
       "      <td>Admin Offices</td>\n",
       "      <td>Howard, Estelle</td>\n",
       "      <td>3.24</td>\n",
       "    </tr>\n",
       "    <tr>\n",
       "      <th>4</th>\n",
       "      <td>Admin Offices</td>\n",
       "      <td>LaRotonda, William</td>\n",
       "      <td>5.00</td>\n",
       "    </tr>\n",
       "    <tr>\n",
       "      <th>...</th>\n",
       "      <td>...</td>\n",
       "      <td>...</td>\n",
       "      <td>...</td>\n",
       "    </tr>\n",
       "    <tr>\n",
       "      <th>306</th>\n",
       "      <td>Software Engineering</td>\n",
       "      <td>Patronick, Lucas</td>\n",
       "      <td>5.00</td>\n",
       "    </tr>\n",
       "    <tr>\n",
       "      <th>307</th>\n",
       "      <td>Software Engineering</td>\n",
       "      <td>Quinn, Sean</td>\n",
       "      <td>4.15</td>\n",
       "    </tr>\n",
       "    <tr>\n",
       "      <th>308</th>\n",
       "      <td>Software Engineering</td>\n",
       "      <td>Saada, Adell</td>\n",
       "      <td>4.20</td>\n",
       "    </tr>\n",
       "    <tr>\n",
       "      <th>309</th>\n",
       "      <td>Software Engineering</td>\n",
       "      <td>Szabo, Andrew</td>\n",
       "      <td>4.50</td>\n",
       "    </tr>\n",
       "    <tr>\n",
       "      <th>310</th>\n",
       "      <td>Software Engineering</td>\n",
       "      <td>True, Edward</td>\n",
       "      <td>4.60</td>\n",
       "    </tr>\n",
       "  </tbody>\n",
       "</table>\n",
       "<p>311 rows × 3 columns</p>\n",
       "</div>"
      ],
      "text/plain": [
       "               Department         Employee_Name  EngagementSurvey\n",
       "0           Admin Offices     Boutwell, Bonalyn              5.00\n",
       "1           Admin Offices            Brown, Mia              4.50\n",
       "2           Admin Offices     Foster-Baker, Amy              5.00\n",
       "3           Admin Offices       Howard, Estelle              3.24\n",
       "4           Admin Offices  LaRotonda, William                5.00\n",
       "..                    ...                   ...               ...\n",
       "306  Software Engineering      Patronick, Lucas              5.00\n",
       "307  Software Engineering           Quinn, Sean              4.15\n",
       "308  Software Engineering          Saada, Adell              4.20\n",
       "309  Software Engineering         Szabo, Andrew              4.50\n",
       "310  Software Engineering          True, Edward              4.60\n",
       "\n",
       "[311 rows x 3 columns]"
      ]
     },
     "execution_count": 470,
     "metadata": {},
     "output_type": "execute_result"
    }
   ],
   "source": [
    "df_Engagement_dept = df.groupby([\"Department\",\"Employee_Name\"])[\"EngagementSurvey\"].sum().reset_index()\n",
    "df_Engagement_dept"
   ]
  },
  {
   "cell_type": "code",
   "execution_count": 496,
   "id": "3498bd6d-411b-4a88-a1dc-6a817cd20781",
   "metadata": {},
   "outputs": [
    {
     "data": {
      "text/html": [
       "<div>\n",
       "<style scoped>\n",
       "    .dataframe tbody tr th:only-of-type {\n",
       "        vertical-align: middle;\n",
       "    }\n",
       "\n",
       "    .dataframe tbody tr th {\n",
       "        vertical-align: top;\n",
       "    }\n",
       "\n",
       "    .dataframe thead th {\n",
       "        text-align: right;\n",
       "    }\n",
       "</style>\n",
       "<table border=\"1\" class=\"dataframe\">\n",
       "  <thead>\n",
       "    <tr style=\"text-align: right;\">\n",
       "      <th></th>\n",
       "      <th>Department</th>\n",
       "      <th>EngagementSurvey</th>\n",
       "    </tr>\n",
       "  </thead>\n",
       "  <tbody>\n",
       "    <tr>\n",
       "      <th>0</th>\n",
       "      <td>Executive Office</td>\n",
       "      <td>4.830000</td>\n",
       "    </tr>\n",
       "    <tr>\n",
       "      <th>1</th>\n",
       "      <td>Admin Offices</td>\n",
       "      <td>4.393333</td>\n",
       "    </tr>\n",
       "    <tr>\n",
       "      <th>2</th>\n",
       "      <td>IT/IS</td>\n",
       "      <td>4.154000</td>\n",
       "    </tr>\n",
       "    <tr>\n",
       "      <th>3</th>\n",
       "      <td>Production</td>\n",
       "      <td>4.129569</td>\n",
       "    </tr>\n",
       "    <tr>\n",
       "      <th>4</th>\n",
       "      <td>Software Engineering</td>\n",
       "      <td>4.061818</td>\n",
       "    </tr>\n",
       "    <tr>\n",
       "      <th>5</th>\n",
       "      <td>Sales</td>\n",
       "      <td>3.818710</td>\n",
       "    </tr>\n",
       "  </tbody>\n",
       "</table>\n",
       "</div>"
      ],
      "text/plain": [
       "             Department  EngagementSurvey\n",
       "0      Executive Office          4.830000\n",
       "1         Admin Offices          4.393333\n",
       "2                 IT/IS          4.154000\n",
       "3     Production                 4.129569\n",
       "4  Software Engineering          4.061818\n",
       "5                 Sales          3.818710"
      ]
     },
     "execution_count": 496,
     "metadata": {},
     "output_type": "execute_result"
    }
   ],
   "source": [
    "df_Engagement_dept.groupby([\"Department\"])[\"EngagementSurvey\"].mean().sort_values(ascending=False).reset_index()"
   ]
  },
  {
   "cell_type": "markdown",
   "id": "1af5deb2-b91d-4433-8433-3cadbe7cc86e",
   "metadata": {},
   "source": [
    "### 49:13 How many employees have been terminated from each position\n"
   ]
  },
  {
   "cell_type": "code",
   "execution_count": 483,
   "id": "1c422a6f-0156-4c2e-a34d-ce75e9fecde6",
   "metadata": {},
   "outputs": [
    {
     "data": {
      "text/plain": [
       "Position\n",
       "Production Technician I         137\n",
       "Production Technician II         57\n",
       "Area Sales Manager               27\n",
       "Production Manager               14\n",
       "Software Engineer                10\n",
       "IT Support                        8\n",
       "Data Analyst                      7\n",
       "Sr. Network Engineer              5\n",
       "Database Administrator            5\n",
       "Network Engineer                  5\n",
       "BI Developer                      4\n",
       "Administrative Assistant          3\n",
       "Senior BI Developer               3\n",
       "Sales Manager                     3\n",
       "Accountant I                      3\n",
       "Sr. DBA                           2\n",
       "Sr. Accountant                    2\n",
       "IT Manager - DB                   2\n",
       "IT Manager - Infra                1\n",
       "Data Analyst                      1\n",
       "Software Engineering Manager      1\n",
       "BI Director                       1\n",
       "Shared Services Manager           1\n",
       "CIO                               1\n",
       "Data Architect                    1\n",
       "Director of Operations            1\n",
       "Director of Sales                 1\n",
       "Principal Data Architect          1\n",
       "President & CEO                   1\n",
       "Enterprise Architect              1\n",
       "IT Director                       1\n",
       "IT Manager - Support              1\n",
       "Name: Termd, dtype: int64"
      ]
     },
     "execution_count": 483,
     "metadata": {},
     "output_type": "execute_result"
    }
   ],
   "source": [
    "df.groupby([\"Position\"])[\"Termd\"].count().sort_values(ascending=False)"
   ]
  },
  {
   "cell_type": "code",
   "execution_count": null,
   "id": "42aa73f2-8450-48f8-9f8e-42f023b39d1a",
   "metadata": {},
   "outputs": [],
   "source": []
  }
 ],
 "metadata": {
  "kernelspec": {
   "display_name": "Python 3 (ipykernel)",
   "language": "python",
   "name": "python3"
  },
  "language_info": {
   "codemirror_mode": {
    "name": "ipython",
    "version": 3
   },
   "file_extension": ".py",
   "mimetype": "text/x-python",
   "name": "python",
   "nbconvert_exporter": "python",
   "pygments_lexer": "ipython3",
   "version": "3.12.4"
  }
 },
 "nbformat": 4,
 "nbformat_minor": 5
}
